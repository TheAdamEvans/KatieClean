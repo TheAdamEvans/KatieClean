{
 "cells": [
  {
   "cell_type": "code",
   "execution_count": 1,
   "metadata": {
    "collapsed": false
   },
   "outputs": [],
   "source": [
    "# Location of the csv for analysis\n",
    "pathToData  = '/Users/adam.evans/Desktop/KatieClean/'\n",
    "filename = 'KatieData.csv'\n",
    "\n",
    "#################\n",
    "\n",
    "import csv\n",
    "import numpy as np\n",
    "import pandas as pd\n",
    "from itertools import izip\n",
    "import re\n",
    "\n",
    "# regular expressions *winky face*\n",
    "fmNumRE = re.compile('.*fm(\\d+)')\n",
    "weekRE = re.compile('.*week(\\d+)')\n",
    "tsLineRE = re.compile('intern_supervisor_form_.*_timestamp')\n",
    "completeRE = re.compile('intern_supervisor_form_.*_complete')\n",
    "\n",
    "def readKatieData(ogData):\n",
    "\n",
    "    # declare the list we add each survey question to\n",
    "    event = []\n",
    "\n",
    "    # start the week counter\n",
    "    weekIndex = 0\n",
    "\n",
    "    # iterate through rows\n",
    "    for i, entry in enumerate(ogData):\n",
    "\n",
    "        qt = entry[0] # this is the variable code\n",
    "\n",
    "        if tsLineRE.match(qt) != None:\n",
    "            if entry[2]=='': # if there is an incomplete week\n",
    "                break # stop reading the data\n",
    "\n",
    "        if re.match('.*survey_identifier.*',qt) != None:\n",
    "            surveyIdentifier = entry[2]\n",
    "        elif re.match('record_id',qt) != None:\n",
    "            recordID = entry[2]\n",
    "        elif tsLineRE.match(qt) != None: # this is the week beginning\n",
    "            weekIndex = weekIndex + 1\n",
    "            ts = entry[2]\n",
    "            # print 'Survey Timestamp ' + ts\n",
    "        elif fmNumRE.match(qt) != None:\n",
    "\n",
    "            # find the form number\n",
    "            fmNumMatch = fmNumRE.match(qt)\n",
    "            fmNum = int(fmNumMatch.group(1))\n",
    "\n",
    "            # determine the event type ignoring night 1 and 2\n",
    "            eventType = entry[1]\n",
    "            gsMatch = re.match('^Group Supervision', eventType)\n",
    "            if gsMatch != None:\n",
    "                eventType = gsMatch.group(0)\n",
    "            gdMatch = re.match('^Group Dinner', eventType)\n",
    "            if gdMatch != None:\n",
    "                eventType = gdMatch.group(0)\n",
    "\n",
    "            # put together relevant data row\n",
    "            score = entry[2]\n",
    "            newEvent = [weekIndex, fmNum, eventType, score]\n",
    "\n",
    "            event.append(newEvent)\n",
    "\n",
    "        elif completeRE.match(qt) != None:\n",
    "            completedWeek = completeRE.match(qt).group(0)\n",
    "            weekMatch = weekRE.match(completedWeek)\n",
    "            if (weekMatch != None) and (entry[2] != ''):\n",
    "                weekNum = weekMatch.group(1)\n",
    "                # print 'Week ' + weekNum + ' completed'\n",
    "    \n",
    "    return event\n",
    "\n",
    "def print4XL(event):\n",
    "    \n",
    "    # create dataframe\n",
    "    eventDF = pd.DataFrame(event, columns= ['weekIndex', 'fmNum', 'eventType', 'score'])\n",
    "    \n",
    "    # print event\n",
    "    eventDF.to_csv(pathToData+'EventByWeek.csv')\n",
    "    \n",
    "    # print numeric only event\n",
    "    \n",
    "    # print pivot\n",
    "\n",
    "# open and transpose data\n",
    "ogData = izip(*csv.reader(open(pathToData+filename, \"rU\")))\n",
    "\n",
    "# normalize data\n",
    "event = readKatieData(ogData)\n",
    "\n",
    "# create dataframe\n",
    "eventDF = pd.DataFrame(event, columns= ['weekIndex', 'fmNum', 'eventType', 'score'])\n",
    "\n",
    "# filter to numeric rows\n",
    "numericOnly = eventDF['score'].isin(['0','1','2','3','4','5'])\n",
    "eventDF = eventDF[numericOnly]\n",
    "\n",
    "# cast as a number instead of a string\n",
    "eventDF[['score']] = eventDF[['score']].astype(float)\n",
    "# eventDF.head(60)\n",
    "\n",
    "df = eventDF"
   ]
  },
  {
   "cell_type": "code",
   "execution_count": 2,
   "metadata": {
    "collapsed": false
   },
   "outputs": [
    {
     "name": "stdout",
     "output_type": "stream",
     "text": [
      "0     27\n",
      "1    243\n",
      "2     69\n",
      "3      2\n",
      "4      5\n",
      "5      4\n",
      "dtype: int64\n"
     ]
    }
   ],
   "source": [
    "scoreFreq = df['score'].value_counts() \n",
    "print scoreFreq.sort_index()"
   ]
  },
  {
   "cell_type": "code",
   "execution_count": 3,
   "metadata": {
    "collapsed": true
   },
   "outputs": [],
   "source": [
    "# import re\n",
    "# fmString = ['ch15_isfm23_week45','ch15_isfm4']\n",
    "# fmNumRE = re.compile('.*fm(\\d+)')\n",
    "\n",
    "# for s in fmString:\n",
    "#     fmNumMatch = fmNumRE.match(s)\n",
    "#     if fmNum != None:\n",
    "#         fmNum = fmNumMatch.group(1)\n",
    "#         print fmNum\n",
    "        \n",
    "# # not useful except for qc\n",
    "# qt = 'intern_supervisor_form_chicago_week1454_timestamp'\n",
    "# tsLineRE = re.compile('intern_supervisor_form_.*_timestamp')\n",
    "# tsRE = re.compile('.*week(\\d+)')\n",
    "# tsLine = tsLineRE.match(qt)\n",
    "# if tsLine != None:\n",
    "#     ts = tsRE.match(tsLine.group(0))\n",
    "#     weekNum = ts.group(1)\n",
    "#     print weekNum\n",
    "\n",
    "# df.dtypes\n",
    "# [row for row in event if row[3].isdigit()] !!list comprehension"
   ]
  },
  {
   "cell_type": "code",
   "execution_count": 4,
   "metadata": {
    "collapsed": false
   },
   "outputs": [
    {
     "name": "stdout",
     "output_type": "stream",
     "text": [
      "Group Supervision\n"
     ]
    }
   ],
   "source": [
    "s = 'Group Supervision'\n",
    "gsMatch = re.match('^Group Supervision', s)\n",
    "if gsMatch != None:\n",
    "    gs = gsMatch.group(0)\n",
    "    print gs\n",
    "\n",
    "#re.match(pattern, string)\n"
   ]
  },
  {
   "cell_type": "code",
   "execution_count": 5,
   "metadata": {
    "collapsed": false
   },
   "outputs": [
    {
     "data": {
      "text/plain": [
       "weekIndex     4.00\n",
       "fmNum        34.34\n",
       "score         1.22\n",
       "dtype: float64"
      ]
     },
     "execution_count": 5,
     "metadata": {},
     "output_type": "execute_result"
    }
   ],
   "source": [
    "df.mean()"
   ]
  },
  {
   "cell_type": "code",
   "execution_count": 6,
   "metadata": {
    "collapsed": false
   },
   "outputs": [
    {
     "name": "stdout",
     "output_type": "stream",
     "text": [
      "                          score                                        \\\n",
      "eventType Clinical Team Meeting Dinner Group Dinner Group Supervision   \n",
      "weekIndex                                                               \n",
      "1                             1  1.000          1.0               1.1   \n",
      "2                             2  1.125          1.0               1.1   \n",
      "3                             1  1.000          1.0               1.0   \n",
      "4                             1  1.125          1.0               1.1   \n",
      "5                             1  1.000          1.0               1.0   \n",
      "6                             1  1.125          0.5               1.0   \n",
      "7                             1  1.125          1.0               1.1   \n",
      "\n",
      "                                                                                  \\\n",
      "eventType How useful did the mentors find the Intern Seminar or Case Conference?   \n",
      "weekIndex                                                                          \n",
      "1                                                          5                       \n",
      "2                                                          5                       \n",
      "3                                                          4                       \n",
      "4                                                          5                       \n",
      "5                                                          3                       \n",
      "6                                                          4                       \n",
      "7                                                          5                       \n",
      "\n",
      "                                                                \\\n",
      "eventType Individual Supervision Intern Seminar Sparks Meeting   \n",
      "weekIndex                                                        \n",
      "1                          0.750       1.111111       1.666667   \n",
      "2                          1.125       1.000000       1.000000   \n",
      "3                          0.875       1.000000       2.000000   \n",
      "4                          1.000       1.000000       1.000000   \n",
      "5                          1.000       0.888889       2.000000   \n",
      "6                          0.750       1.000000       1.000000   \n",
      "7                          1.125       1.111111       2.000000   \n",
      "\n",
      "                                                                    \\\n",
      "eventType Was an Intern Seminar or Case Conference held this week?   \n",
      "weekIndex                                                            \n",
      "1                                                          1         \n",
      "2                                                          1         \n",
      "3                                                          1         \n",
      "4                                                          1         \n",
      "5                                                          1         \n",
      "6                                                          1         \n",
      "7                                                          1         \n",
      "\n",
      "                                                                   \n",
      "eventType Who presented at the Intern Seminar or Case Conference?  \n",
      "weekIndex                                                          \n",
      "1                                                          3       \n",
      "2                                                          4       \n",
      "3                                                          4       \n",
      "4                                                          4       \n",
      "5                                                          2       \n",
      "6                                                          2       \n",
      "7                                                          2       \n"
     ]
    }
   ],
   "source": [
    "g = df.groupby(['weekIndex','eventType'])\n",
    "m = pd.DataFrame(g['score'].mean())\n",
    "print m.unstack()\n"
   ]
  },
  {
   "cell_type": "code",
   "execution_count": 7,
   "metadata": {
    "collapsed": false
   },
   "outputs": [
    {
     "name": "stdout",
     "output_type": "stream",
     "text": [
      "weekIndex\n",
      "1    1.24\n",
      "2    1.22\n",
      "3    1.28\n",
      "4    1.18\n",
      "5    1.22\n",
      "6    1.04\n",
      "7    1.36\n",
      "Name: score, dtype: float64\n"
     ]
    }
   ],
   "source": [
    "g = df.groupby(['weekIndex'])\n",
    "weekMean = g['score'].mean()\n",
    "print weekMean\n",
    "# what happened in weeks 6 and 7 ??"
   ]
  },
  {
   "cell_type": "code",
   "execution_count": 8,
   "metadata": {
    "collapsed": false
   },
   "outputs": [
    {
     "name": "stdout",
     "output_type": "stream",
     "text": [
      "eventType\n",
      "Clinical Team Meeting                                                     1.142857\n",
      "Dinner                                                                    1.071429\n",
      "Group Dinner                                                              0.928571\n",
      "Group Supervision                                                         1.057143\n",
      "How useful did the mentors find the Intern Seminar or Case Conference?    4.428571\n",
      "Individual Supervision                                                    0.946429\n",
      "Intern Seminar                                                            1.015873\n",
      "Sparks Meeting                                                            1.523810\n",
      "Was an Intern Seminar or Case Conference held this week?                  1.000000\n",
      "Who presented at the Intern Seminar or Case Conference?                   3.000000\n",
      "Name: score, dtype: float64\n"
     ]
    }
   ],
   "source": [
    "g = df.groupby(['eventType'])\n",
    "eventMean = g['score'].mean()\n",
    "# need pattern to match Group Dinner\n",
    "# need pattern to match Group Supervision\n",
    "print eventMean"
   ]
  },
  {
   "cell_type": "code",
   "execution_count": 9,
   "metadata": {
    "collapsed": false
   },
   "outputs": [
    {
     "name": "stdout",
     "output_type": "stream",
     "text": [
      "eventType\n",
      "How useful did the mentors find the Intern Seminar or Case Conference?    4.428571\n",
      "Who presented at the Intern Seminar or Case Conference?                   3.000000\n",
      "Name: score, dtype: float64\n"
     ]
    }
   ],
   "source": [
    "bigL = eventMean > 2\n",
    "print eventMean[bigL]\n",
    "# are these on a different scale??"
   ]
  },
  {
   "cell_type": "code",
   "execution_count": 10,
   "metadata": {
    "collapsed": false
   },
   "outputs": [
    {
     "name": "stdout",
     "output_type": "stream",
     "text": [
      "eventType\n",
      "Clinical Team Meeting                                       1.142857\n",
      "Dinner                                                      1.071429\n",
      "Group Dinner                                                0.928571\n",
      "Group Supervision                                           1.057143\n",
      "Individual Supervision                                      0.946429\n",
      "Intern Seminar                                              1.015873\n",
      "Sparks Meeting                                              1.523810\n",
      "Was an Intern Seminar or Case Conference held this week?    1.000000\n",
      "Name: score, dtype: float64\n"
     ]
    }
   ],
   "source": [
    "print eventMean[-bigL]"
   ]
  },
  {
   "cell_type": "code",
   "execution_count": 11,
   "metadata": {
    "collapsed": true
   },
   "outputs": [],
   "source": [
    "# DYING FOR A BAR CHART\n",
    "\n"
   ]
  },
  {
   "cell_type": "code",
   "execution_count": 12,
   "metadata": {
    "collapsed": false
   },
   "outputs": [],
   "source": [
    "numericOnly = df['score'].isin(['0','1','2','3','4','5'])\n",
    "# bool??"
   ]
  },
  {
   "cell_type": "code",
   "execution_count": 13,
   "metadata": {
    "collapsed": false
   },
   "outputs": [
    {
     "data": {
      "text/plain": [
       "weekIndex      int64\n",
       "fmNum          int64\n",
       "eventType     object\n",
       "score        float64\n",
       "dtype: object"
      ]
     },
     "execution_count": 13,
     "metadata": {},
     "output_type": "execute_result"
    }
   ],
   "source": [
    "df.dtypes\n",
    "#g = df.groupby(['weekindex','eventType'])\n",
    "#eventMean = g['score'].mean()\n",
    "#eventMean.pivot('weekIndex', 'eventType')['score']\n"
   ]
  },
  {
   "cell_type": "code",
   "execution_count": 15,
   "metadata": {
    "collapsed": false
   },
   "outputs": [],
   "source": [
    "m.to_csv(pathToData+'EventByWeek.csv')"
   ]
  },
  {
   "cell_type": "code",
   "execution_count": 16,
   "metadata": {
    "collapsed": false
   },
   "outputs": [
    {
     "data": {
      "text/plain": [
       "'/Users/adam.evans/Desktop/KatieClean/EventByWeek.csv'"
      ]
     },
     "execution_count": 16,
     "metadata": {},
     "output_type": "execute_result"
    }
   ],
   "source": [
    "pathToData+'EventByWeek.csv'"
   ]
  },
  {
   "cell_type": "code",
   "execution_count": 59,
   "metadata": {
    "collapsed": false
   },
   "outputs": [
    {
     "name": "stdout",
     "output_type": "stream",
     "text": [
      "           score\n",
      "weekIndex       \n",
      "1           1.24\n",
      "2           1.22\n",
      "3           1.28\n",
      "4           1.18\n",
      "5           1.22\n",
      "6           1.04\n",
      "7           1.36\n"
     ]
    }
   ],
   "source": [
    "edf = df# denormalize for excel\n",
    "g = edf.groupby(['weekIndex'])\n",
    "m = pd.DataFrame(g['score'].mean())\n",
    "print m\n",
    "# denorm = m.unstack()\n",
    "# denorm.to_csv(pathToData+'EventByWeek.csv', sep=',', index=True, header=True)"
   ]
  },
  {
   "cell_type": "code",
   "execution_count": 60,
   "metadata": {
    "collapsed": true
   },
   "outputs": [],
   "source": [
    "import matplotlib.pyplot as plt\n",
    "%matplotlib inline\n",
    "plt.style.use('ggplot')"
   ]
  },
  {
   "cell_type": "code",
   "execution_count": 61,
   "metadata": {
    "collapsed": false
   },
   "outputs": [
    {
     "data": {
      "text/plain": [
       "<matplotlib.axes._subplots.AxesSubplot at 0x10a0d7f10>"
      ]
     },
     "execution_count": 61,
     "metadata": {},
     "output_type": "execute_result"
    },
    {
     "data": {
      "image/png": "[encoded data removed]",
      "text/plain": [
       "<matplotlib.figure.Figure at 0x106ee7410>"
      ]
     },
     "metadata": {},
     "output_type": "display_data"
    }
   ],
   "source": [
    "# m is score by week\n",
    "m.plot(figsize=(12,8))"
   ]
  },
  {
   "cell_type": "code",
   "execution_count": null,
   "metadata": {
    "collapsed": true
   },
   "outputs": [],
   "source": []
  }
 ],
 "metadata": {
  "kernelspec": {
   "display_name": "Python 2",
   "language": "python",
   "name": "python2"
  },
  "language_info": {
   "codemirror_mode": {
    "name": "ipython",
    "version": 2
   },
   "file_extension": ".py",
   "mimetype": "text/x-python",
   "name": "python",
   "nbconvert_exporter": "python",
   "pygments_lexer": "ipython2",
   "version": "2.7.10"
  }
 },
 "nbformat": 4,
 "nbformat_minor": 0
}
