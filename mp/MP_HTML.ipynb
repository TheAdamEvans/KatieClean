{
 "cells": [
  {
   "cell_type": "code",
   "execution_count": 1,
   "metadata": {
    "collapsed": false
   },
   "outputs": [],
   "source": [
    "import re\n",
    "html = \"garsgddfg><span class=\\\"destArea\\\"><a target=\\\"_top\\\" href=\\\"/v/iowa/106092653\\\">Iowa</a></span> <span class='textLight small'>(180)</span><br /><br /><span class=\\\"destArea\\\"><a target=\\\"_top\\\" href=\\\"/v/kansas/107235316\\\">Kansas</a></span> <span class='textLight small'>(27)</span><br /><br /><span class=\\\"destArea\\\"><a target=\\\"_top\\\" href=\\\"/v/kentucky/105868674\\\">Kentucky</a></span><div class='textIndent10' style='padding-left:10px;'><span class='destSubArea'><a target=\\\"_top\\\" href=\\\"/v/red-river-gorge/105841134\\\">Red River Gorge</a></span>sagfarsgarg\"\n",
    "\n",
    "# span_start = re.search(r'<span.*destArea.*\\/span>', html).start()\n",
    "# span_end = re.search(r'<span.*destArea.*\\/span>', html).end()\n",
    "# hidden_url = html[span_start:span_end]\n",
    "\n",
    "def get_info_from_html(html):\n",
    "    \n",
    "    # if label == 'root':\n",
    "    # hidden_url = re.search(r'<span class=\"destArea\">.*?</a>', html).group(0)\n",
    "    # else\n",
    "    # hidden_url = re.search(\"href=\\\"\",nav_html).group(0)\n",
    "    # print hidden_url\n",
    "    \n",
    "    hidden_url = html\n",
    "    \n",
    "    if re.search(r'(\\d)+', hidden_url) != None:\n",
    "        page_index = re.search(r'(\\d)+', hidden_url).group(0)\n",
    "\n",
    "    if re.search(r'>[A-z ()-/]+<', hidden_url) != None:\n",
    "        page_label = re.search(r'>[A-z ()-/]+<', hidden_url).group(0)\n",
    "        page_label = page_label[1:-1]\n",
    "    \n",
    "    if 'page_index' in locals() and 'page_label' in locals():\n",
    "        url = 'http://www.mountainproject.com/v/' + page_index\n",
    "        return page_index, page_label, url\n",
    "    else:\n",
    "        return None\n",
    "\n",
    "# get_info_from_html(html)\n",
    "# print hidden_url\n",
    "\n",
    "# re.search(r\"href=\\\".*\\\"\",hidden_url).end()\n",
    "# re.search(r\"href=\\\".*\\\"\",hidden_url).group()\n",
    "\n"
   ]
  },
  {
   "cell_type": "code",
   "execution_count": 2,
   "metadata": {
    "collapsed": false
   },
   "outputs": [
    {
     "data": {
      "text/plain": [
       "('105905087',\n",
       " 'Barton Creek Greenbelt',\n",
       " 'http://www.mountainproject.com/v/105905087')"
      ]
     },
     "execution_count": 2,
     "metadata": {},
     "output_type": "execute_result"
    }
   ],
   "source": [
    "html = \"<a target=\\\"_top\\\" href=\\\"/v/barton-creek-greenbelt/105905087\\\">Barton Creek Greenbelt</a>&nbsp;\"\n",
    "# page_index = re.search(r'(\\d)+', html).group(0)\n",
    "# page_label = re.search(r'>[A-z ()-/]+<', html).group(0)\n",
    "# page_label = page_label[1:-1]\n",
    "# print page_label\n",
    "\n",
    "get_info_from_html(html)"
   ]
  },
  {
   "cell_type": "code",
   "execution_count": 81,
   "metadata": {
    "collapsed": false
   },
   "outputs": [
    {
     "name": "stdout",
     "output_type": "stream",
     "text": [
      "\n",
      "<b>Select Area...</b><br/><a target=\"_top\" href=\"/v/barton-creek-greenbelt/105905087\">Barton Creek Greenbelt</a>&nbsp;<span id='leftnav_105905087'></span><br/>\n",
      "<a target=\"_top\" href=\"/v/big-bend-national-park/106192146\">Big Bend National Park</a>&nbsp;<span id='leftnav_106192146'></span><br/>\n",
      "<a target=\"_top\" href=\"/v/brownwood/107217388\">Brownwood</a>&nbsp;<span id='leftnav_107217388'></span><br/>\n",
      "<a target=\"_top\" href=\"/v/bull-creek-park/105995719\">Bull Creek Park</a>&nbsp;<span id='leftnav_105995719'></span><br/>\n",
      "<a target=\"_top\" href=\"/v/camp-eagle/106160063\">Camp Eagle</a>&nbsp;<span id='leftnav_106160063'></span><br/>\n",
      "<a target=\"_top\" href=\"/v/caprock-canyons-state-park/107436412\">Caprock Canyons State Park</a>&nbsp;<span id='leftnav_107436412'></span><br/>\n",
      "<a target=\"_top\" href=\"/v/continental-ranch/106169626\">Continental Ranch</a>&nbsp;<span id='leftnav_106169626'></span><br/>\n",
      "<a target=\"_top\" href=\"/v/cub-cave/107692386\">Cub Cave</a>&nbsp;<span id='leftnav_107692386'></span><\n",
      "41\n",
      "('105905087', 'Barton Creek Greenbelt', 'http://www.mountainproject.com/v/105905087')\n",
      "[\n",
      "    {\n",
      "        \"label\": \"Barton Creek Greenbelt\",\n",
      "        \"pageID\": \"105905087\",\n",
      "        \"url\": \"http://www.mountainproject.com/v/105905087\"\n",
      "    }\n",
      "]\n",
      "('105905087', 'Big Bend National Park', 'http://www.mountainproject.com/v/105905087')\n",
      "[\n",
      "    {\n",
      "        \"label\": \"Big Bend National Park\",\n",
      "        \"pageID\": \"105905087\",\n",
      "        \"url\": \"http://www.mountainproject.com/v/105905087\"\n",
      "    }\n",
      "]\n",
      "('106192146', 'Brownwood', 'http://www.mountainproject.com/v/106192146')\n",
      "[\n",
      "    {\n",
      "        \"label\": \"Brownwood\",\n",
      "        \"pageID\": \"106192146\",\n",
      "        \"url\": \"http://www.mountainproject.com/v/106192146\"\n",
      "    }\n",
      "]\n",
      "('107217388', 'Bull Creek Park', 'http://www.mountainproject.com/v/107217388')\n",
      "[\n",
      "    {\n",
      "        \"label\": \"Bull Creek Park\",\n",
      "        \"pageID\": \"107217388\",\n",
      "        \"url\": \"http://www.mountainproject.com/v/107217388\"\n",
      "    }\n",
      "]\n",
      "('105995719', 'Camp Eagle', 'http://www.mountainproject.com/v/105995719')\n",
      "[\n",
      "    {\n",
      "        \"label\": \"Camp Eagle\",\n",
      "        \"pageID\": \"105995719\",\n",
      "        \"url\": \"http://www.mountainproject.com/v/105995719\"\n",
      "    }\n",
      "]\n",
      "('106160063', 'Caprock Canyons State Park', 'http://www.mountainproject.com/v/106160063')\n",
      "[\n",
      "    {\n",
      "        \"label\": \"Caprock Canyons State Park\",\n",
      "        \"pageID\": \"106160063\",\n",
      "        \"url\": \"http://www.mountainproject.com/v/106160063\"\n",
      "    }\n",
      "]\n",
      "('107436412', 'Continental Ranch', 'http://www.mountainproject.com/v/107436412')\n",
      "[\n",
      "    {\n",
      "        \"label\": \"Continental Ranch\",\n",
      "        \"pageID\": \"107436412\",\n",
      "        \"url\": \"http://www.mountainproject.com/v/107436412\"\n",
      "    }\n",
      "]\n",
      "('106169626', 'Cub Cave', 'http://www.mountainproject.com/v/106169626')\n",
      "[\n",
      "    {\n",
      "        \"label\": \"Cub Cave\",\n",
      "        \"pageID\": \"106169626\",\n",
      "        \"url\": \"http://www.mountainproject.com/v/106169626\"\n",
      "    }\n",
      "]\n",
      "('107692386', 'Dallas Park City Buildering', 'http://www.mountainproject.com/v/107692386')\n",
      "[\n",
      "    {\n",
      "        \"label\": \"Dallas Park City Buildering\",\n",
      "        \"pageID\": \"107692386\",\n",
      "        \"url\": \"http://www.mountainproject.com/v/107692386\"\n",
      "    }\n",
      "]\n",
      "('107109516', 'Eisenhower State Park', 'http://www.mountainproject.com/v/107109516')\n",
      "[\n",
      "    {\n",
      "        \"label\": \"Eisenhower State Park\",\n",
      "        \"pageID\": \"107109516\",\n",
      "        \"url\": \"http://www.mountainproject.com/v/107109516\"\n",
      "    }\n",
      "]\n",
      "('108032515', 'Enchanted Rock State Natural Area', 'http://www.mountainproject.com/v/108032515')\n",
      "[\n",
      "    {\n",
      "        \"label\": \"Enchanted Rock State Natural Area\",\n",
      "        \"pageID\": \"108032515\",\n",
      "        \"url\": \"http://www.mountainproject.com/v/108032515\"\n",
      "    }\n",
      "]\n",
      "('105855196', 'Franklin Mountain Range', 'http://www.mountainproject.com/v/105855196')\n",
      "[\n",
      "    {\n",
      "        \"label\": \"Franklin Mountain Range\",\n",
      "        \"pageID\": \"105855196\",\n",
      "        \"url\": \"http://www.mountainproject.com/v/105855196\"\n",
      "    }\n",
      "]\n",
      "('106779455', 'Georgetown Hospital', 'http://www.mountainproject.com/v/106779455')\n",
      "[\n",
      "    {\n",
      "        \"label\": \"Georgetown Hospital\",\n",
      "        \"pageID\": \"106779455\",\n",
      "        \"url\": \"http://www.mountainproject.com/v/106779455\"\n",
      "    }\n",
      "]\n",
      "('106715082', 'Hostility Boulders aka ham creek park', 'http://www.mountainproject.com/v/106715082')\n",
      "[\n",
      "    {\n",
      "        \"label\": \"Hostility Boulders aka ham creek park\",\n",
      "        \"pageID\": \"106715082\",\n",
      "        \"url\": \"http://www.mountainproject.com/v/106715082\"\n",
      "    }\n",
      "]\n",
      "('106987330', 'Hueco Tanks', 'http://www.mountainproject.com/v/106987330')\n",
      "[\n",
      "    {\n",
      "        \"label\": \"Hueco Tanks\",\n",
      "        \"pageID\": \"106987330\",\n",
      "        \"url\": \"http://www.mountainproject.com/v/106987330\"\n",
      "    }\n",
      "]\n",
      "('105810691', 'Lake Whitney (DWS)', 'http://www.mountainproject.com/v/105810691')\n",
      "[\n",
      "    {\n",
      "        \"label\": \"Lake Whitney (DWS)\",\n",
      "        \"pageID\": \"105810691\",\n",
      "        \"url\": \"http://www.mountainproject.com/v/105810691\"\n",
      "    }\n",
      "]\n",
      "('107079978', 'Lubbock, Tx (Lapstrike Gateway)', 'http://www.mountainproject.com/v/107079978')\n",
      "[\n",
      "    {\n",
      "        \"label\": \"Lubbock, Tx (Lapstrike Gateway)\",\n",
      "        \"pageID\": \"107079978\",\n",
      "        \"url\": \"http://www.mountainproject.com/v/107079978\"\n",
      "    }\n",
      "]\n",
      "('110148271', 'Matilda Bridge', 'http://www.mountainproject.com/v/110148271')\n",
      "[\n",
      "    {\n",
      "        \"label\": \"Matilda Bridge\",\n",
      "        \"pageID\": \"110148271\",\n",
      "        \"url\": \"http://www.mountainproject.com/v/110148271\"\n",
      "    }\n",
      "]\n",
      "('108128458', 'McKinney Falls State Park', 'http://www.mountainproject.com/v/108128458')\n",
      "[\n",
      "    {\n",
      "        \"label\": \"McKinney Falls State Park\",\n",
      "        \"pageID\": \"108128458\",\n",
      "        \"url\": \"http://www.mountainproject.com/v/108128458\"\n",
      "    }\n",
      "]\n",
      "('106265889', 'Medicine Wall', 'http://www.mountainproject.com/v/106265889')\n",
      "[\n",
      "    {\n",
      "        \"label\": \"Medicine Wall\",\n",
      "        \"pageID\": \"106265889\",\n",
      "        \"url\": \"http://www.mountainproject.com/v/106265889\"\n",
      "    }\n",
      "]\n",
      "('107143945', 'Mineral Wells State Park', 'http://www.mountainproject.com/v/107143945')\n",
      "[\n",
      "    {\n",
      "        \"label\": \"Mineral Wells State Park\",\n",
      "        \"pageID\": \"107143945\",\n",
      "        \"url\": \"http://www.mountainproject.com/v/107143945\"\n",
      "    }\n",
      "]\n",
      "('106033369', 'Monster Rock', 'http://www.mountainproject.com/v/106033369')\n",
      "[\n",
      "    {\n",
      "        \"label\": \"Monster Rock\",\n",
      "        \"pageID\": \"106033369\",\n",
      "        \"url\": \"http://www.mountainproject.com/v/106033369\"\n",
      "    }\n",
      "]\n",
      "None\n",
      "('107452541', 'Nolan River ', 'http://www.mountainproject.com/v/107452541')\n",
      "[\n",
      "    {\n",
      "        \"label\": \"Nolan River \",\n",
      "        \"pageID\": \"107452541\",\n",
      "        \"url\": \"http://www.mountainproject.com/v/107452541\"\n",
      "    }\n",
      "]\n",
      "('106994625', 'Notrees', 'http://www.mountainproject.com/v/106994625')\n",
      "[\n",
      "    {\n",
      "        \"label\": \"Notrees\",\n",
      "        \"pageID\": \"106994625\",\n",
      "        \"url\": \"http://www.mountainproject.com/v/106994625\"\n",
      "    }\n",
      "]\n",
      "('107032132', 'Pace Bend Park (DWS)', 'http://www.mountainproject.com/v/107032132')\n",
      "[\n",
      "    {\n",
      "        \"label\": \"Pace Bend Park (DWS)\",\n",
      "        \"pageID\": \"107032132\",\n",
      "        \"url\": \"http://www.mountainproject.com/v/107032132\"\n",
      "    }\n",
      "]\n",
      "('107104361', 'Palo Duro Canyon State Park', 'http://www.mountainproject.com/v/107104361')\n",
      "[\n",
      "    {\n",
      "        \"label\": \"Palo Duro Canyon State Park\",\n",
      "        \"pageID\": \"107104361\",\n",
      "        \"url\": \"http://www.mountainproject.com/v/107104361\"\n",
      "    }\n",
      "]\n",
      "('106531575', 'Paluxy River Boulders', 'http://www.mountainproject.com/v/106531575')\n",
      "[\n",
      "    {\n",
      "        \"label\": \"Paluxy River Boulders\",\n",
      "        \"pageID\": \"106531575\",\n",
      "        \"url\": \"http://www.mountainproject.com/v/106531575\"\n",
      "    }\n",
      "]\n",
      "('106833262', 'Paradise on the Brazos', 'http://www.mountainproject.com/v/106833262')\n",
      "[\n",
      "    {\n",
      "        \"label\": \"Paradise on the Brazos\",\n",
      "        \"pageID\": \"106833262\",\n",
      "        \"url\": \"http://www.mountainproject.com/v/106833262\"\n",
      "    }\n",
      "]\n",
      "('107212483', 'Pecos River DWS (Deep Water Solo) ', 'http://www.mountainproject.com/v/107212483')\n",
      "[\n",
      "    {\n",
      "        \"label\": \"Pecos River DWS (Deep Water Solo) \",\n",
      "        \"pageID\": \"107212483\",\n",
      "        \"url\": \"http://www.mountainproject.com/v/107212483\"\n",
      "    }\n",
      "]\n",
      "('109817878', 'Pedernales Falls State Park', 'http://www.mountainproject.com/v/109817878')\n",
      "[\n",
      "    {\n",
      "        \"label\": \"Pedernales Falls State Park\",\n",
      "        \"pageID\": \"109817878\",\n",
      "        \"url\": \"http://www.mountainproject.com/v/109817878\"\n",
      "    }\n",
      "]\n",
      "('110104342', 'Point of Rocks', 'http://www.mountainproject.com/v/110104342')\n",
      "[\n",
      "    {\n",
      "        \"label\": \"Point of Rocks\",\n",
      "        \"pageID\": \"110104342\",\n",
      "        \"url\": \"http://www.mountainproject.com/v/110104342\"\n",
      "    }\n",
      "]\n",
      "('106389388', 'Red Bluff', 'http://www.mountainproject.com/v/106389388')\n",
      "[\n",
      "    {\n",
      "        \"label\": \"Red Bluff\",\n",
      "        \"pageID\": \"106389388\",\n",
      "        \"url\": \"http://www.mountainproject.com/v/106389388\"\n",
      "    }\n",
      "]\n",
      "None\n",
      "None\n",
      "('107788017', 'Rogers Park', 'http://www.mountainproject.com/v/107788017')\n",
      "[\n",
      "    {\n",
      "        \"label\": \"Rogers Park\",\n",
      "        \"pageID\": \"107788017\",\n",
      "        \"url\": \"http://www.mountainproject.com/v/107788017\"\n",
      "    }\n",
      "]\n",
      "('106084033', 'Rosemeade Park Boulder', 'http://www.mountainproject.com/v/106084033')\n",
      "[\n",
      "    {\n",
      "        \"label\": \"Rosemeade Park Boulder\",\n",
      "        \"pageID\": \"106084033\",\n",
      "        \"url\": \"http://www.mountainproject.com/v/106084033\"\n",
      "    }\n",
      "]\n",
      "('107115900', 'San Gabriel Walking Trail', 'http://www.mountainproject.com/v/107115900')\n",
      "[\n",
      "    {\n",
      "        \"label\": \"San Gabriel Walking Trail\",\n",
      "        \"pageID\": \"107115900\",\n",
      "        \"url\": \"http://www.mountainproject.com/v/107115900\"\n",
      "    }\n",
      "]\n",
      "('107706018', 'Tonkawa Falls', 'http://www.mountainproject.com/v/107706018')\n",
      "[\n",
      "    {\n",
      "        \"label\": \"Tonkawa Falls\",\n",
      "        \"pageID\": \"107706018\",\n",
      "        \"url\": \"http://www.mountainproject.com/v/107706018\"\n",
      "    }\n",
      "]\n",
      "('106992314', 'Wimberley Boulders', 'http://www.mountainproject.com/v/106992314')\n",
      "[\n",
      "    {\n",
      "        \"label\": \"Wimberley Boulders\",\n",
      "        \"pageID\": \"106992314\",\n",
      "        \"url\": \"http://www.mountainproject.com/v/106992314\"\n",
      "    }\n",
      "]\n",
      "None\n"
     ]
    }
   ],
   "source": [
    "import json\n",
    "import urllib2\n",
    "id = 105905173\n",
    "#def get_html(id):\n",
    "#url = 'http://www.mountainproject.com/v/'+str(id)\n",
    "# url = 'http://www.mountainproject.com/destinations/'\n",
    "url = 'http://www.mountainproject.com/v/texas/105835804'\n",
    "\n",
    "def get_children(url):\n",
    "\n",
    "    try:\n",
    "        mp_page = urllib2.urlopen(url)\n",
    "    except:\n",
    "        None\n",
    "    else:\n",
    "        mp_html = mp_page.read()\n",
    "\n",
    "        # empty JSON\n",
    "        website_tree = [{}]\n",
    "        \n",
    "        # if coming from the root\n",
    "        if url == 'http://www.mountainproject.com/destinations/':\n",
    "            dest_iter = re.finditer(r'<span class=\"destArea\">.*?</a>',mp_html)\n",
    "        else:\n",
    "            nav_start = re.search('leftnavfilternote(.*)',mp_html).end()\n",
    "\n",
    "            nav_end = re.search('(.*)LeftNavDynamicContent',mp_html).start()\n",
    "            nav_html = mp_html[nav_start:nav_end]\n",
    "            print nav_html[:1000]\n",
    "            \n",
    "            TRIM = 26\n",
    "            dest_iter = nav_html[TRIM:].split(\"<span id=\")#.split('<br/>')\n",
    "#             get_info_from_html(splt[10])\n",
    "#             dest_iter = re.finditer(r\"href=\\\".*\\\"\",nav_html)\n",
    "            \n",
    "            print len(list(dest_iter))\n",
    "        \n",
    "        for state in dest_iter:\n",
    "            features = get_info_from_html(state)\n",
    "            print features\n",
    "            if features != None:\n",
    "                page_index, page_label, url = features\n",
    "                data = [ { 'pageID':page_index, 'label':page_label, 'url':url } ]\n",
    "                website_tree[0][page_label] = data\n",
    "                print json.dumps(data, sort_keys=True, indent=4, separators=(',', ': '))\n",
    "\n",
    "get_children(url)"
   ]
  },
  {
   "cell_type": "code",
   "execution_count": 66,
   "metadata": {
    "collapsed": false
   },
   "outputs": [
    {
     "data": {
      "text/plain": [
       "26"
      ]
     },
     "execution_count": 66,
     "metadata": {},
     "output_type": "execute_result"
    }
   ],
   "source": [
    "\n",
    "\n",
    "len(\"<b>Select Area...</b><br/>\")\n"
   ]
  },
  {
   "cell_type": "code",
   "execution_count": null,
   "metadata": {
    "collapsed": true
   },
   "outputs": [],
   "source": []
  },
  {
   "cell_type": "code",
   "execution_count": null,
   "metadata": {
    "collapsed": true
   },
   "outputs": [],
   "source": []
  },
  {
   "cell_type": "code",
   "execution_count": 15,
   "metadata": {
    "collapsed": true
   },
   "outputs": [],
   "source": []
  },
  {
   "cell_type": "code",
   "execution_count": 68,
   "metadata": {
    "collapsed": false
   },
   "outputs": [],
   "source": [
    "url = 'http://www.mountainproject.com/v/texas/105835804'\n",
    "try:\n",
    "    mp_page = urllib2.urlopen(url)\n",
    "except:\n",
    "    None\n",
    "else:\n",
    "    mp_html = mp_page.read()\n",
    "nav_html = re.search('leftnavfilternote.*LeftNavDynamicContent',mp_html)\n",
    "if nav_html != None:\n",
    "    splt = nav_html.split('<br>')\n",
    "    print get_info_from_html(splt[10])"
   ]
  },
  {
   "cell_type": "code",
   "execution_count": 76,
   "metadata": {
    "collapsed": false
   },
   "outputs": [],
   "source": [
    "# nav_start = re.search('leftnavfilternote(.*)',mp_html).end() #*.LeftNavDynamicContent]\n",
    "# nav_end = re.search('(.*)LeftNavDynamicContent',mp_html).start()\n",
    "# nav_html = mp_html[nav_start:nav_end]"
   ]
  },
  {
   "cell_type": "code",
   "execution_count": 69,
   "metadata": {
    "collapsed": true
   },
   "outputs": [],
   "source": [
    "nav_html = \"</select><div id=\\\"leftnavfilternote\\\"></div></form><b>Select Area...</b><br><a target=\\\"_top\\\" href=\\\"/v/barton-creek-greenbelt/105905087\\\">Barton Creek Greenbelt</a>&nbsp;<span id=\\\"leftnav_105905087\\\"><span class=\\\"small\\\" style=\\\"color:#555\\\">(89)</span></span><br><a target=\\\"_top\\\" href=\\\"/v/big-bend-national-park/106192146\\\">Big Bend National Park</a>&nbsp;<span id=\\\"leftnav_106192146\\\"><span class=\\\"small\\\" style=\\\"color:#555\\\">(3)</span></span><br><a target=\\\"_top\\\" href=\\\"/v/brownwood/107217388\\\">Brownwood</a>&nbsp;<span id=\\\"leftnav_107217388\\\"><span class=\\\"small\\\" style=\\\"color:#555\\\">(7)</span></span><br><a target=\\\"_top\\\" href=\\\"/v/bull-creek-park/105995719\\\">Bull Creek Park</a>&nbsp;<span id=\\\"leftnav_105995719\\\"><span class=\\\"small\\\" style=\\\"color:#555\\\">(17)</span></span><br><a target=\\\"_top\\\" href=\\\"/v/camp-eagle/106160063\\\">Camp Eagle</a>&nbsp;<span id=\\\"leftnav_106160063\\\"><span class=\\\"small\\\" style=\\\"color:#555\\\">(34)</span></span><br><a target=\\\"_top\\\" href=\\\"/v/caprock-canyons-state-park/107436412\\\">Caprock Canyons State Park</a>&nbsp;<span id=\\\"leftnav_107436412\\\"><span class=\\\"small\\\" style=\\\"color:#555\\\">(6)</span></span><br><a target=\\\"_top\\\" href=\\\"/v/continental-ranch/106169626\\\">Continental Ranch</a>&nbsp;<span id=\\\"leftnav_106169626\\\"><span class=\\\"small\\\" style=\\\"color:#555\\\">(2)</span></span><br><a target=\\\"_top\\\" href=\\\"/v/cub-cave/107692386\\\">Cub Cave</a>&nbsp;<span id=\\\"leftnav_107692386\\\"><span class=\\\"small\\\" style=\\\"color:#555\\\">(4)</span></span><br><a target=\\\"_top\\\" href=\\\"/v/dallas-park-city-buildering/107109516\\\">Dallas Park City Buildering</a>&nbsp;<span id=\\\"leftnav_107109516\\\"><span class=\\\"small\\\" style=\\\"color:#555\\\">(4)</span></span><br><a target=\\\"_top\\\" href=\\\"/v/eisenhower-state-park/108032515\\\">Eisenhower State Park</a>&nbsp;<span id=\\\"leftnav_108032515\\\"><span class=\\\"small\\\" style=\\\"color:#555\\\">(14)</span></span><br><a target=\\\"_top\\\" href=\\\"/v/enchanted-rock-state-natural-area/105855196\\\">Enchanted Rock State Natural Area</a>&nbsp;<span id=\\\"leftnav_105855196\\\"><span class=\\\"small\\\" style=\\\"color:#555\\\">(262)</span></span><br><a target=\\\"_top\\\" href=\\\"/v/franklin-mountain-range/106779455\\\">Franklin Mountain Range</a>&nbsp;<span id=\\\"leftnav_106779455\\\"><span class=\\\"small\\\" style=\\\"color:#555\\\">(39)</span></span><br><a target=\\\"_top\\\" href=\\\"/v/georgetown-hospital/106715082\\\">Georgetown Hospital</a>&nbsp;<span id=\\\"leftnav_106715082\\\"><span class=\\\"small\\\" style=\\\"color:#555\\\">(22)</span></span><br><a target=\\\"_top\\\" href=\\\"/v/hostility-boulders-aka-ham-creek-park/106987330\\\">Hostility Boulders aka ham creek park</a>&nbsp;<span id=\\\"leftnav_106987330\\\"><span class=\\\"small\\\" style=\\\"color:#555\\\">(1)</span></span><br><a target=\\\"_top\\\" href=\\\"/v/hueco-tanks/105810691\\\">Hueco Tanks</a>&nbsp;<span id=\\\"leftnav_105810691\\\"><span class=\\\"small\\\" style=\\\"color:#555\\\">(440)</span></span><br><a target=\\\"_top\\\" href=\\\"/v/lake-whitney-dws/107079978\\\">Lake Whitney (DWS)</a>&nbsp;<span id=\\\"leftnav_107079978\\\"><span class=\\\"small\\\" style=\\\"color:#555\\\">(12)</span></span><br><a target=\\\"_top\\\" href=\\\"/v/lubbock-tx-lapstrike-gateway/110148271\\\">Lubbock, Tx (Lapstrike Gateway)</a>&nbsp;<span id=\\\"leftnav_110148271\\\"><span class=\\\"small\\\" style=\\\"color:#555\\\">(8)</span></span><br><a target=\\\"_top\\\" href=\\\"/v/matilda-bridge/108128458\\\">Matilda Bridge</a>&nbsp;<span id=\\\"leftnav_108128458\\\"><span class=\\\"small\\\" style=\\\"color:#555\\\">(3)</span></span><br><a target=\\\"_top\\\" href=\\\"/v/mckinney-falls-state-park/106265889\\\">McKinney Falls State Park</a>&nbsp;<span id=\\\"leftnav_106265889\\\"><span class=\\\"small\\\" style=\\\"color:#555\\\">(59)</span></span><br><a target=\\\"_top\\\" href=\\\"/v/medicine-wall/107143945\\\">Medicine Wall</a>&nbsp;<span id=\\\"leftnav_107143945\\\"><span class=\\\"small\\\" style=\\\"color:#555\\\">(37)</span></span><br><a target=\\\"_top\\\" href=\\\"/v/mineral-wells-state-park/106033369\\\">Mineral Wells State Park</a>&nbsp;<span id=\\\"leftnav_106033369\\\"><span class=\\\"small\\\" style=\\\"color:#555\\\">(30)</span></span><br><a target=\\\"_top\\\" href=\\\"/v/monster-rock/106147903\\\">Monster Rock</a>&nbsp;<span id=\\\"leftnav_106147903\\\"><span class=\\\"small\\\" style=\\\"color:#555\\\">(43)</span></span><br><a target=\\\"_top\\\" href=\\\"/v/morgans-point/107452541\\\">Morgan's Point</a>&nbsp;<span id=\\\"leftnav_107452541\\\"><span class=\\\"small\\\" style=\\\"color:#555\\\">(13)</span></span><br><a target=\\\"_top\\\" href=\\\"/v/nolan-river-/106994625\\\">Nolan River </a>&nbsp;<span id=\\\"leftnav_106994625\\\"><span class=\\\"small\\\" style=\\\"color:#555\\\">(8)</span></span><br><a target=\\\"_top\\\" href=\\\"/v/notrees/107032132\\\">Notrees</a>&nbsp;<span id=\\\"leftnav_107032132\\\"><span class=\\\"small\\\" style=\\\"color:#555\\\">(1)</span></span><br><a target=\\\"_top\\\" href=\\\"/v/pace-bend-park-dws/107104361\\\">Pace Bend Park (DWS)</a>&nbsp;<span id=\\\"leftnav_107104361\\\"><span class=\\\"small\\\" style=\\\"color:#555\\\">(0)</span></span><br><a target=\\\"_top\\\" href=\\\"/v/palo-duro-canyon-state-park/106531575\\\">Palo Duro Canyon State Park</a>&nbsp;<span id=\\\"leftnav_106531575\\\"><span class=\\\"small\\\" style=\\\"color:#555\\\">(120)</span></span><br><a target=\\\"_top\\\" href=\\\"/v/paluxy-river-boulders/106833262\\\">Paluxy River Boulders</a>&nbsp;<span id=\\\"leftnav_106833262\\\"><span class=\\\"small\\\" style=\\\"color:#555\\\">(68)</span></span><br><a target=\\\"_top\\\" href=\\\"/v/paradise-on-the-brazos/107212483\\\">Paradise on the Brazos</a>&nbsp;<span id=\\\"leftnav_107212483\\\"><span class=\\\"small\\\" style=\\\"color:#555\\\">(99)</span></span><br><a target=\\\"_top\\\" href=\\\"/v/pecos-river-dws-deep-water-solo-/109817878\\\">Pecos River DWS (Deep Water Solo) </a>&nbsp;<span id=\\\"leftnav_109817878\\\"><span class=\\\"small\\\" style=\\\"color:#555\\\">(3)</span></span><br><a target=\\\"_top\\\" href=\\\"/v/pedernales-falls-state-park/110104342\\\">Pedernales Falls State Park</a>&nbsp;<span id=\\\"leftnav_110104342\\\"><span class=\\\"small\\\" style=\\\"color:#555\\\">(0)</span></span><br><a target=\\\"_top\\\" href=\\\"/v/point-of-rocks/106389388\\\">Point of Rocks</a>&nbsp;<span id=\\\"leftnav_106389388\\\"><span class=\\\"small\\\" style=\\\"color:#555\\\">(0)</span></span><br><a target=\\\"_top\\\" href=\\\"/v/red-bluff/106208371\\\">Red Bluff</a>&nbsp;<span id=\\\"leftnav_106208371\\\"><span class=\\\"small\\\" style=\\\"color:#555\\\">(7)</span></span><br><a target=\\\"_top\\\" href=\\\"/v/reimers-ranch/105837312\\\">Reimer's Ranch</a>&nbsp;<span id=\\\"leftnav_105837312\\\"><span class=\\\"small\\\" style=\\\"color:#555\\\">(216)</span></span><br><a target=\\\"_top\\\" href=\\\"/v/reimers-ranch-north-shore/107788017\\\">Reimer's Ranch North Shore</a>&nbsp;<span id=\\\"leftnav_107788017\\\"><span class=\\\"small\\\" style=\\\"color:#555\\\">(130)</span></span><br><a target=\\\"_top\\\" href=\\\"/v/rogers-park/106084033\\\">Rogers Park</a>&nbsp;<span id=\\\"leftnav_106084033\\\"><span class=\\\"small\\\" style=\\\"color:#555\\\">(49)</span></span><br><a target=\\\"_top\\\" href=\\\"/v/rosemeade-park-boulder/107115900\\\">Rosemeade Park Boulder</a>&nbsp;<span id=\\\"leftnav_107115900\\\"><span class=\\\"small\\\" style=\\\"color:#555\\\">(0)</span></span><br><a target=\\\"_top\\\" href=\\\"/v/san-gabriel-walking-trail/107706018\\\">San Gabriel Walking Trail</a>&nbsp;<span id=\\\"leftnav_107706018\\\"><span class=\\\"small\\\" style=\\\"color:#555\\\">(1)</span></span><br><a target=\\\"_top\\\" href=\\\"/v/tonkawa-falls/106992314\\\">Tonkawa Falls</a>&nbsp;<span id=\\\"leftnav_106992314\\\"><span class=\\\"small\\\" style=\\\"color:#555\\\">(33)</span></span><br><a target=\\\"_top\\\" href=\\\"/v/wimberley-boulders/108516790\\\">Wimberley Boulders</a>&nbsp;<span id=\\\"leftnav_108516790\\\"><span class=\\\"small\\\" style=\\\"color:#555\\\">(2)</span></span><br><script>LeftNavDynamicContent(105835804);</script>\""
   ]
  },
  {
   "cell_type": "code",
   "execution_count": 73,
   "metadata": {
    "collapsed": false
   },
   "outputs": [
    {
     "name": "stdout",
     "output_type": "stream",
     "text": [
      "42\n",
      "('108032515', 'Eisenhower State Park', 'http://www.mountainproject.com/v/108032515')\n"
     ]
    }
   ],
   "source": [
    "splt = nav_html.split('<br>')\n",
    "print len(splt)\n",
    "print get_info_from_html(splt[10])"
   ]
  },
  {
   "cell_type": "code",
   "execution_count": 17,
   "metadata": {
    "collapsed": false
   },
   "outputs": [
    {
     "name": "stdout",
     "output_type": "stream",
     "text": [
      "105798164\n"
     ]
    }
   ],
   "source": [
    "# empty JSON\n",
    "area_tree = [{}]\n",
    "\n",
    "dest_iter = re.finditer(r\"href=\\\".*\\\"\",nav_html)\n",
    "for area in dest_iter:\n",
    "    if area != None:\n",
    "        html = state.group(0)\n",
    "        print re.search(r'(\\d)+',html).group(0)"
   ]
  },
  {
   "cell_type": "code",
   "execution_count": 18,
   "metadata": {
    "collapsed": false
   },
   "outputs": [],
   "source": [
    "for i in dest_iter:\n",
    "    print i"
   ]
  },
  {
   "cell_type": "code",
   "execution_count": 19,
   "metadata": {
    "collapsed": false
   },
   "outputs": [
    {
     "data": {
      "text/plain": [
       "98"
      ]
     },
     "execution_count": 19,
     "metadata": {},
     "output_type": "execute_result"
    }
   ],
   "source": [
    "re.search(\"href=\\\"\",nav_html).end()"
   ]
  },
  {
   "cell_type": "code",
   "execution_count": null,
   "metadata": {
    "collapsed": true
   },
   "outputs": [],
   "source": []
  }
 ],
 "metadata": {
  "kernelspec": {
   "display_name": "Python 2",
   "language": "python",
   "name": "python2"
  },
  "language_info": {
   "codemirror_mode": {
    "name": "ipython",
    "version": 2
   },
   "file_extension": ".py",
   "mimetype": "text/x-python",
   "name": "python",
   "nbconvert_exporter": "python",
   "pygments_lexer": "ipython2",
   "version": "2.7.10"
  }
 },
 "nbformat": 4,
 "nbformat_minor": 0
}
