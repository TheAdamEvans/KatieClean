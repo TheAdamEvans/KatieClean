{
 "cells": [
  {
   "cell_type": "code",
   "execution_count": 94,
   "metadata": {
    "collapsed": false
   },
   "outputs": [],
   "source": [
    "import re\n",
    "html = \"garsgddfg><span class=\\\"destArea\\\"><a target=\\\"_top\\\" href=\\\"/v/iowa/106092653\\\">Iowa</a></span> <span class='textLight small'>(180)</span><br /><br /><span class=\\\"destArea\\\"><a target=\\\"_top\\\" href=\\\"/v/kansas/107235316\\\">Kansas</a></span> <span class='textLight small'>(27)</span><br /><br /><span class=\\\"destArea\\\"><a target=\\\"_top\\\" href=\\\"/v/kentucky/105868674\\\">Kentucky</a></span><div class='textIndent10' style='padding-left:10px;'><span class='destSubArea'><a target=\\\"_top\\\" href=\\\"/v/red-river-gorge/105841134\\\">Red River Gorge</a></span>sagfarsgarg\"\n",
    "\n",
    "# span_start = re.search(r'<span.*destArea.*\\/span>', html).start()\n",
    "# span_end = re.search(r'<span.*destArea.*\\/span>', html).end()\n",
    "# hidden_url = html[span_start:span_end]\n",
    "\n",
    "def get_info_from_html(html):\n",
    "    \n",
    "    # if label == 'root':\n",
    "    # hidden_url = re.search(r'<span class=\"destArea\">.*?</a>', html).group(0)\n",
    "    # else\n",
    "    # hidden_url = re.search(\"href=\\\"\",nav_html).group(0)\n",
    "    # print hidden_url\n",
    "    \n",
    "    hidden_url = html\n",
    "    \n",
    "    if re.search(r'(\\d)+', hidden_url) != None:\n",
    "        page_index = re.search(r'(\\d)+', hidden_url).group(0)\n",
    "\n",
    "    if re.search(r'>[A-z ()-/]+<', hidden_url) != None:\n",
    "        page_label = re.search(r'>[A-z ()-/]+<', hidden_url).group(0)\n",
    "        page_label = page_label[1:-1]\n",
    "    \n",
    "    if 'page_index' in locals() and 'page_label' in locals():\n",
    "        url = 'http://www.mountainproject.com/v/' + page_index\n",
    "        return page_index, page_label, url\n",
    "    else:\n",
    "        return None\n",
    "\n",
    "# get_info_from_html(html)\n",
    "# print hidden_url\n",
    "\n",
    "# re.search(r\"href=\\\".*\\\"\",hidden_url).end()\n",
    "# re.search(r\"href=\\\".*\\\"\",hidden_url).group()\n",
    "\n"
   ]
  },
  {
   "cell_type": "code",
   "execution_count": 95,
   "metadata": {
    "collapsed": false
   },
   "outputs": [
    {
     "data": {
      "text/plain": [
       "('105905087',\n",
       " 'Barton Creek Greenbelt',\n",
       " 'http://www.mountainproject.com/v/105905087')"
      ]
     },
     "execution_count": 95,
     "metadata": {},
     "output_type": "execute_result"
    }
   ],
   "source": [
    "html = \"<a target=\\\"_top\\\" href=\\\"/v/barton-creek-greenbelt/105905087\\\">Barton Creek Greenbelt</a>&nbsp;\"\n",
    "# page_index = re.search(r'(\\d)+', html).group(0)\n",
    "# page_label = re.search(r'>[A-z ()-/]+<', html).group(0)\n",
    "# page_label = page_label[1:-1]\n",
    "# print page_label\n",
    "\n",
    "get_info_from_html(html)"
   ]
  },
  {
   "cell_type": "code",
   "execution_count": 74,
   "metadata": {
    "collapsed": false
   },
   "outputs": [],
   "source": [
    "import json\n",
    "import urllib2\n",
    "id = 105905173\n",
    "#def get_html(id):\n",
    "#url = 'http://www.mountainproject.com/v/'+str(id)\n",
    "url = 'http://www.mountainproject.com/destinations/'\n",
    "try:\n",
    "    mp_page = urllib2.urlopen(url)\n",
    "except:\n",
    "    None\n",
    "else:\n",
    "    mp_html = mp_page.read()\n",
    "\n",
    "# empty JSON\n",
    "website_tree = [{}]\n",
    "\n",
    "dest_iter = re.finditer(r'<span class=\"destArea\">.*?</a>',mp_html)\n",
    "for state in dest_iter:\n",
    "    if state != None:\n",
    "        html = state.group(0)\n",
    "        \n",
    "        features = get_info_from_html(html)\n",
    "        if features != None:\n",
    "            page_index, page_label, url = features\n",
    "            data = [ { 'pageID':page_index, 'label':page_label, 'url':url } ]\n",
    "            website_tree[0][page_label] = data\n",
    "            #print json.dumps(data, sort_keys=True, indent=4, separators=(',', ': '))\n"
   ]
  },
  {
   "cell_type": "code",
   "execution_count": 75,
   "metadata": {
    "collapsed": false
   },
   "outputs": [
    {
     "ename": "SyntaxError",
     "evalue": "invalid syntax (<ipython-input-75-147c52814ce0>, line 1)",
     "output_type": "error",
     "traceback": [
      "\u001b[0;36m  File \u001b[0;32m\"<ipython-input-75-147c52814ce0>\"\u001b[0;36m, line \u001b[0;32m1\u001b[0m\n\u001b[0;31m    len('href=\\\"/v/')`\u001b[0m\n\u001b[0m                     ^\u001b[0m\n\u001b[0;31mSyntaxError\u001b[0m\u001b[0;31m:\u001b[0m invalid syntax\n"
     ]
    }
   ],
   "source": [
    "len('href=\\\"/v/')`"
   ]
  },
  {
   "cell_type": "code",
   "execution_count": null,
   "metadata": {
    "collapsed": true
   },
   "outputs": [],
   "source": []
  },
  {
   "cell_type": "code",
   "execution_count": null,
   "metadata": {
    "collapsed": true
   },
   "outputs": [],
   "source": []
  },
  {
   "cell_type": "code",
   "execution_count": 76,
   "metadata": {
    "collapsed": true
   },
   "outputs": [],
   "source": [
    "nav_html = \"</select><div id=\\\"leftnavfilternote\\\"></div></form><b>Select Area...</b><br><a target=\\\"_top\\\" href=\\\"/v/barton-creek-greenbelt/105905087\\\">Barton Creek Greenbelt</a>&nbsp;<span id=\\\"leftnav_105905087\\\"><span class=\\\"small\\\" style=\\\"color:#555\\\">(89)</span></span><br><a target=\\\"_top\\\" href=\\\"/v/big-bend-national-park/106192146\\\">Big Bend National Park</a>&nbsp;<span id=\\\"leftnav_106192146\\\"><span class=\\\"small\\\" style=\\\"color:#555\\\">(3)</span></span><br><a target=\\\"_top\\\" href=\\\"/v/brownwood/107217388\\\">Brownwood</a>&nbsp;<span id=\\\"leftnav_107217388\\\"><span class=\\\"small\\\" style=\\\"color:#555\\\">(7)</span></span><br><a target=\\\"_top\\\" href=\\\"/v/bull-creek-park/105995719\\\">Bull Creek Park</a>&nbsp;<span id=\\\"leftnav_105995719\\\"><span class=\\\"small\\\" style=\\\"color:#555\\\">(17)</span></span><br><a target=\\\"_top\\\" href=\\\"/v/camp-eagle/106160063\\\">Camp Eagle</a>&nbsp;<span id=\\\"leftnav_106160063\\\"><span class=\\\"small\\\" style=\\\"color:#555\\\">(34)</span></span><br><a target=\\\"_top\\\" href=\\\"/v/caprock-canyons-state-park/107436412\\\">Caprock Canyons State Park</a>&nbsp;<span id=\\\"leftnav_107436412\\\"><span class=\\\"small\\\" style=\\\"color:#555\\\">(6)</span></span><br><a target=\\\"_top\\\" href=\\\"/v/continental-ranch/106169626\\\">Continental Ranch</a>&nbsp;<span id=\\\"leftnav_106169626\\\"><span class=\\\"small\\\" style=\\\"color:#555\\\">(2)</span></span><br><a target=\\\"_top\\\" href=\\\"/v/cub-cave/107692386\\\">Cub Cave</a>&nbsp;<span id=\\\"leftnav_107692386\\\"><span class=\\\"small\\\" style=\\\"color:#555\\\">(4)</span></span><br><a target=\\\"_top\\\" href=\\\"/v/dallas-park-city-buildering/107109516\\\">Dallas Park City Buildering</a>&nbsp;<span id=\\\"leftnav_107109516\\\"><span class=\\\"small\\\" style=\\\"color:#555\\\">(4)</span></span><br><a target=\\\"_top\\\" href=\\\"/v/eisenhower-state-park/108032515\\\">Eisenhower State Park</a>&nbsp;<span id=\\\"leftnav_108032515\\\"><span class=\\\"small\\\" style=\\\"color:#555\\\">(14)</span></span><br><a target=\\\"_top\\\" href=\\\"/v/enchanted-rock-state-natural-area/105855196\\\">Enchanted Rock State Natural Area</a>&nbsp;<span id=\\\"leftnav_105855196\\\"><span class=\\\"small\\\" style=\\\"color:#555\\\">(262)</span></span><br><a target=\\\"_top\\\" href=\\\"/v/franklin-mountain-range/106779455\\\">Franklin Mountain Range</a>&nbsp;<span id=\\\"leftnav_106779455\\\"><span class=\\\"small\\\" style=\\\"color:#555\\\">(39)</span></span><br><a target=\\\"_top\\\" href=\\\"/v/georgetown-hospital/106715082\\\">Georgetown Hospital</a>&nbsp;<span id=\\\"leftnav_106715082\\\"><span class=\\\"small\\\" style=\\\"color:#555\\\">(22)</span></span><br><a target=\\\"_top\\\" href=\\\"/v/hostility-boulders-aka-ham-creek-park/106987330\\\">Hostility Boulders aka ham creek park</a>&nbsp;<span id=\\\"leftnav_106987330\\\"><span class=\\\"small\\\" style=\\\"color:#555\\\">(1)</span></span><br><a target=\\\"_top\\\" href=\\\"/v/hueco-tanks/105810691\\\">Hueco Tanks</a>&nbsp;<span id=\\\"leftnav_105810691\\\"><span class=\\\"small\\\" style=\\\"color:#555\\\">(440)</span></span><br><a target=\\\"_top\\\" href=\\\"/v/lake-whitney-dws/107079978\\\">Lake Whitney (DWS)</a>&nbsp;<span id=\\\"leftnav_107079978\\\"><span class=\\\"small\\\" style=\\\"color:#555\\\">(12)</span></span><br><a target=\\\"_top\\\" href=\\\"/v/lubbock-tx-lapstrike-gateway/110148271\\\">Lubbock, Tx (Lapstrike Gateway)</a>&nbsp;<span id=\\\"leftnav_110148271\\\"><span class=\\\"small\\\" style=\\\"color:#555\\\">(8)</span></span><br><a target=\\\"_top\\\" href=\\\"/v/matilda-bridge/108128458\\\">Matilda Bridge</a>&nbsp;<span id=\\\"leftnav_108128458\\\"><span class=\\\"small\\\" style=\\\"color:#555\\\">(3)</span></span><br><a target=\\\"_top\\\" href=\\\"/v/mckinney-falls-state-park/106265889\\\">McKinney Falls State Park</a>&nbsp;<span id=\\\"leftnav_106265889\\\"><span class=\\\"small\\\" style=\\\"color:#555\\\">(59)</span></span><br><a target=\\\"_top\\\" href=\\\"/v/medicine-wall/107143945\\\">Medicine Wall</a>&nbsp;<span id=\\\"leftnav_107143945\\\"><span class=\\\"small\\\" style=\\\"color:#555\\\">(37)</span></span><br><a target=\\\"_top\\\" href=\\\"/v/mineral-wells-state-park/106033369\\\">Mineral Wells State Park</a>&nbsp;<span id=\\\"leftnav_106033369\\\"><span class=\\\"small\\\" style=\\\"color:#555\\\">(30)</span></span><br><a target=\\\"_top\\\" href=\\\"/v/monster-rock/106147903\\\">Monster Rock</a>&nbsp;<span id=\\\"leftnav_106147903\\\"><span class=\\\"small\\\" style=\\\"color:#555\\\">(43)</span></span><br><a target=\\\"_top\\\" href=\\\"/v/morgans-point/107452541\\\">Morgan's Point</a>&nbsp;<span id=\\\"leftnav_107452541\\\"><span class=\\\"small\\\" style=\\\"color:#555\\\">(13)</span></span><br><a target=\\\"_top\\\" href=\\\"/v/nolan-river-/106994625\\\">Nolan River </a>&nbsp;<span id=\\\"leftnav_106994625\\\"><span class=\\\"small\\\" style=\\\"color:#555\\\">(8)</span></span><br><a target=\\\"_top\\\" href=\\\"/v/notrees/107032132\\\">Notrees</a>&nbsp;<span id=\\\"leftnav_107032132\\\"><span class=\\\"small\\\" style=\\\"color:#555\\\">(1)</span></span><br><a target=\\\"_top\\\" href=\\\"/v/pace-bend-park-dws/107104361\\\">Pace Bend Park (DWS)</a>&nbsp;<span id=\\\"leftnav_107104361\\\"><span class=\\\"small\\\" style=\\\"color:#555\\\">(0)</span></span><br><a target=\\\"_top\\\" href=\\\"/v/palo-duro-canyon-state-park/106531575\\\">Palo Duro Canyon State Park</a>&nbsp;<span id=\\\"leftnav_106531575\\\"><span class=\\\"small\\\" style=\\\"color:#555\\\">(120)</span></span><br><a target=\\\"_top\\\" href=\\\"/v/paluxy-river-boulders/106833262\\\">Paluxy River Boulders</a>&nbsp;<span id=\\\"leftnav_106833262\\\"><span class=\\\"small\\\" style=\\\"color:#555\\\">(68)</span></span><br><a target=\\\"_top\\\" href=\\\"/v/paradise-on-the-brazos/107212483\\\">Paradise on the Brazos</a>&nbsp;<span id=\\\"leftnav_107212483\\\"><span class=\\\"small\\\" style=\\\"color:#555\\\">(99)</span></span><br><a target=\\\"_top\\\" href=\\\"/v/pecos-river-dws-deep-water-solo-/109817878\\\">Pecos River DWS (Deep Water Solo) </a>&nbsp;<span id=\\\"leftnav_109817878\\\"><span class=\\\"small\\\" style=\\\"color:#555\\\">(3)</span></span><br><a target=\\\"_top\\\" href=\\\"/v/pedernales-falls-state-park/110104342\\\">Pedernales Falls State Park</a>&nbsp;<span id=\\\"leftnav_110104342\\\"><span class=\\\"small\\\" style=\\\"color:#555\\\">(0)</span></span><br><a target=\\\"_top\\\" href=\\\"/v/point-of-rocks/106389388\\\">Point of Rocks</a>&nbsp;<span id=\\\"leftnav_106389388\\\"><span class=\\\"small\\\" style=\\\"color:#555\\\">(0)</span></span><br><a target=\\\"_top\\\" href=\\\"/v/red-bluff/106208371\\\">Red Bluff</a>&nbsp;<span id=\\\"leftnav_106208371\\\"><span class=\\\"small\\\" style=\\\"color:#555\\\">(7)</span></span><br><a target=\\\"_top\\\" href=\\\"/v/reimers-ranch/105837312\\\">Reimer's Ranch</a>&nbsp;<span id=\\\"leftnav_105837312\\\"><span class=\\\"small\\\" style=\\\"color:#555\\\">(216)</span></span><br><a target=\\\"_top\\\" href=\\\"/v/reimers-ranch-north-shore/107788017\\\">Reimer's Ranch North Shore</a>&nbsp;<span id=\\\"leftnav_107788017\\\"><span class=\\\"small\\\" style=\\\"color:#555\\\">(130)</span></span><br><a target=\\\"_top\\\" href=\\\"/v/rogers-park/106084033\\\">Rogers Park</a>&nbsp;<span id=\\\"leftnav_106084033\\\"><span class=\\\"small\\\" style=\\\"color:#555\\\">(49)</span></span><br><a target=\\\"_top\\\" href=\\\"/v/rosemeade-park-boulder/107115900\\\">Rosemeade Park Boulder</a>&nbsp;<span id=\\\"leftnav_107115900\\\"><span class=\\\"small\\\" style=\\\"color:#555\\\">(0)</span></span><br><a target=\\\"_top\\\" href=\\\"/v/san-gabriel-walking-trail/107706018\\\">San Gabriel Walking Trail</a>&nbsp;<span id=\\\"leftnav_107706018\\\"><span class=\\\"small\\\" style=\\\"color:#555\\\">(1)</span></span><br><a target=\\\"_top\\\" href=\\\"/v/tonkawa-falls/106992314\\\">Tonkawa Falls</a>&nbsp;<span id=\\\"leftnav_106992314\\\"><span class=\\\"small\\\" style=\\\"color:#555\\\">(33)</span></span><br><a target=\\\"_top\\\" href=\\\"/v/wimberley-boulders/108516790\\\">Wimberley Boulders</a>&nbsp;<span id=\\\"leftnav_108516790\\\"><span class=\\\"small\\\" style=\\\"color:#555\\\">(2)</span></span><br><script>LeftNavDynamicContent(105835804);</script>\""
   ]
  },
  {
   "cell_type": "code",
   "execution_count": 78,
   "metadata": {
    "collapsed": false
   },
   "outputs": [
    {
     "name": "stdout",
     "output_type": "stream",
     "text": [
      "<a target=\"_top\" href=\"/v/barton-creek-greenbelt/105905087\">Barton Creek Greenbelt</a>&nbsp;<span id=\"leftnav_105905087\"><span class=\"small\" style=\"color:#555\">(89)</span></span>\n"
     ]
    }
   ],
   "source": [
    "splt = nav_html.split('<br>')\n",
    "get_info_from_html(splt[1])\n",
    "print splt[1]"
   ]
  },
  {
   "cell_type": "raw",
   "metadata": {},
   "source": []
  },
  {
   "cell_type": "code",
   "execution_count": 68,
   "metadata": {
    "collapsed": false
   },
   "outputs": [
    {
     "name": "stdout",
     "output_type": "stream",
     "text": [
      "105798164\n"
     ]
    }
   ],
   "source": [
    "# empty JSON\n",
    "area_tree = [{}]\n",
    "\n",
    "dest_iter = re.finditer(r\"href=\\\".*\\\"\",nav_html)\n",
    "for area in dest_iter:\n",
    "    if area != None:\n",
    "        html = state.group(0)\n",
    "        print re.search(r'(\\d)+',html).group(0)"
   ]
  },
  {
   "cell_type": "code",
   "execution_count": 69,
   "metadata": {
    "collapsed": false
   },
   "outputs": [],
   "source": [
    "for i in dest_iter:\n",
    "    print i"
   ]
  },
  {
   "cell_type": "code",
   "execution_count": 70,
   "metadata": {
    "collapsed": false
   },
   "outputs": [
    {
     "data": {
      "text/plain": [
       "99"
      ]
     },
     "execution_count": 70,
     "metadata": {},
     "output_type": "execute_result"
    }
   ],
   "source": [
    "re.search(\"href=\\\"\",nav_html).end()"
   ]
  },
  {
   "cell_type": "code",
   "execution_count": null,
   "metadata": {
    "collapsed": true
   },
   "outputs": [],
   "source": []
  }
 ],
 "metadata": {
  "kernelspec": {
   "display_name": "Python 2",
   "language": "python",
   "name": "python2"
  },
  "language_info": {
   "codemirror_mode": {
    "name": "ipython",
    "version": 2
   },
   "file_extension": ".py",
   "mimetype": "text/x-python",
   "name": "python",
   "nbconvert_exporter": "python",
   "pygments_lexer": "ipython2",
   "version": "2.7.10"
  }
 },
 "nbformat": 4,
 "nbformat_minor": 0
}
