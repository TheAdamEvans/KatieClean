{
 "cells": [
  {
   "cell_type": "code",
   "execution_count": 115,
   "metadata": {
    "collapsed": false
   },
   "outputs": [],
   "source": [
    "import re\n",
    "html = \"garsgddfg><span class=\\\"destArea\\\"><a target=\\\"_top\\\" href=\\\"/v/iowa/106092653\\\">Iowa</a></span> <span class='textLight small'>(180)</span><br /><br /><span class=\\\"destArea\\\"><a target=\\\"_top\\\" href=\\\"/v/kansas/107235316\\\">Kansas</a></span> <span class='textLight small'>(27)</span><br /><br /><span class=\\\"destArea\\\"><a target=\\\"_top\\\" href=\\\"/v/kentucky/105868674\\\">Kentucky</a></span><div class='textIndent10' style='padding-left:10px;'><span class='destSubArea'><a target=\\\"_top\\\" href=\\\"/v/red-river-gorge/105841134\\\">Red River Gorge</a></span>sagfarsgarg\"\n",
    "\n",
    "# span_start = re.search(r'<span.*destArea.*\\/span>', html).start()\n",
    "# span_end = re.search(r'<span.*destArea.*\\/span>', html).end()\n",
    "# hidden_url = html[span_start:span_end]\n",
    "\n",
    "def get_info_from_html(html):\n",
    "    \n",
    "    # if label == 'root':\n",
    "    # hidden_url = re.search(r'<span class=\"destArea\">.*?</a>', html).group(0)\n",
    "    # else\n",
    "    # hidden_url = re.search(\"href=\\\"\",nav_html).group(0)\n",
    "    # print hidden_url\n",
    "    \n",
    "    hidden_url = html\n",
    "    \n",
    "    if re.search(r'(\\d)+', hidden_url) != None:\n",
    "        page_index = re.search(r'(\\d)+', hidden_url).group(0)\n",
    "\n",
    "    # BAD *$&@%$*&% will breka this\n",
    "    if re.search(r\">[A-z \\'()-/]+<\", hidden_url) != None:\n",
    "        page_label = re.search(r'>[A-z \\'()-/]+<', hidden_url).group(0)\n",
    "        page_label = page_label[1:-1]\n",
    "    \n",
    "    if 'page_index' in locals() and 'page_label' in locals():\n",
    "        url = 'http://www.mountainproject.com/v/' + page_index\n",
    "        return page_index, page_label, url\n",
    "    else:\n",
    "        return None\n",
    "\n",
    "# get_info_from_html(html)\n",
    "# print hidden_url\n",
    "\n",
    "# re.search(r\"href=\\\".*\\\"\",hidden_url).end()\n",
    "# re.search(r\"href=\\\".*\\\"\",hidden_url).group()\n",
    "\n"
   ]
  },
  {
   "cell_type": "code",
   "execution_count": null,
   "metadata": {
    "collapsed": true
   },
   "outputs": [],
   "source": []
  },
  {
   "cell_type": "code",
   "execution_count": 116,
   "metadata": {
    "collapsed": false
   },
   "outputs": [
    {
     "data": {
      "text/plain": [
       "('105905087',\n",
       " 'Barton Creek Greenbelt',\n",
       " 'http://www.mountainproject.com/v/105905087')"
      ]
     },
     "execution_count": 116,
     "metadata": {},
     "output_type": "execute_result"
    }
   ],
   "source": [
    "html = \"<a target=\\\"_top\\\" href=\\\"/v/barton-creek-greenbelt/105905087\\\">Barton Creek Greenbelt</a>&nbsp;\"\n",
    "# page_index = re.search(r'(\\d)+', html).group(0)\n",
    "# page_label = re.search(r'>[A-z ()-/]+<', html).group(0)\n",
    "# page_label = page_label[1:-1]\n",
    "# print page_label\n",
    "\n",
    "get_info_from_html(html)"
   ]
  },
  {
   "cell_type": "code",
   "execution_count": null,
   "metadata": {
    "collapsed": true
   },
   "outputs": [],
   "source": [
    "class Area\n",
    "    # description\n",
    "    # has a geography\n",
    "class Route\n",
    "    # description\n",
    "    # belongs to an area"
   ]
  },
  {
   "cell_type": "code",
   "execution_count": 140,
   "metadata": {
    "collapsed": false
   },
   "outputs": [],
   "source": [
    "import json\n",
    "import urllib2\n",
    "id = 105905173\n",
    "#def get_html(id):\n",
    "#url = 'http://www.mountainproject.com/v/'+str(id)\n",
    "# url = 'http://www.mountainproject.com/destinations/'\n",
    "url = 'http://www.mountainproject.com/v/texas/105835804'\n",
    "\n",
    "\n",
    "\n",
    "def get_children(url):\n",
    "\n",
    "    try:\n",
    "        mp_page = urllib2.urlopen(url)\n",
    "    except:\n",
    "        return None\n",
    "    else:\n",
    "        mp_html = mp_page.read()\n",
    "\n",
    "        # empty JSON\n",
    "        website_tree = [{}]\n",
    "        \n",
    "        # if coming from the root\n",
    "        if url == 'http://www.mountainproject.com/destinations/':\n",
    "            dest_iter = re.finditer(r'<span class=\"destArea\">.*?</a>',mp_html)\n",
    "        else:\n",
    "            nav_start = re.search('leftnavfilternote(.*)',mp_html).end()\n",
    "\n",
    "            nav_end = re.search('(.*)LeftNavDynamicContent',mp_html).start()\n",
    "            nav_html = mp_html[nav_start:nav_end]\n",
    "            \n",
    "            TRIM = 26\n",
    "            dest_iter = nav_html[TRIM:].split('<br/>')#.split(\"target=\\\"_top\")#.split(\"<span id=\")#\n",
    "        \n",
    "        for state in dest_iter:\n",
    "            features = get_info_from_html(state)\n",
    "            # print features\n",
    "            if features != None:\n",
    "                page_index, page_label, url = features\n",
    "                data = [ { 'pageID':page_index, 'label':page_label, 'url':url } ]\n",
    "                website_tree[0][page_label] = data\n",
    "        \n",
    "        return website_tree\n",
    "\n",
    "children = get_children(url)"
   ]
  },
  {
   "cell_type": "code",
   "execution_count": 141,
   "metadata": {
    "collapsed": false
   },
   "outputs": [
    {
     "data": {
      "text/plain": [
       "[{'label': 'Wimberley Boulders',\n",
       "  'pageID': '108516790',\n",
       "  'url': 'http://www.mountainproject.com/v/108516790'}]"
      ]
     },
     "execution_count": 141,
     "metadata": {},
     "output_type": "execute_result"
    }
   ],
   "source": [
    "# print json.dumps(children, sort_keys=True, indent=2, separators=(',', ': '))\n",
    "children[0]['Wimberley Boulders']"
   ]
  },
  {
   "cell_type": "code",
   "execution_count": null,
   "metadata": {
    "collapsed": true
   },
   "outputs": [],
   "source": []
  },
  {
   "cell_type": "code",
   "execution_count": null,
   "metadata": {
    "collapsed": true
   },
   "outputs": [],
   "source": []
  },
  {
   "cell_type": "code",
   "execution_count": null,
   "metadata": {
    "collapsed": true
   },
   "outputs": [],
   "source": []
  },
  {
   "cell_type": "code",
   "execution_count": 107,
   "metadata": {
    "collapsed": false
   },
   "outputs": [],
   "source": [
    "url = 'http://www.mountainproject.com/v/texas/105835804'\n",
    "try:\n",
    "    mp_page = urllib2.urlopen(url)\n",
    "except:\n",
    "    None\n",
    "else:\n",
    "    mp_html = mp_page.read()\n",
    "nav_html = re.search('leftnavfilternote.*LeftNavDynamicContent',mp_html)\n",
    "if nav_html != None:\n",
    "    splt = nav_html.split('<br>')\n",
    "    print get_info_from_html(splt[10])"
   ]
  },
  {
   "cell_type": "code",
   "execution_count": 90,
   "metadata": {
    "collapsed": false
   },
   "outputs": [],
   "source": [
    "# nav_start = re.search('leftnavfilternote(.*)',mp_html).end() #*.LeftNavDynamicContent]\n",
    "# nav_end = re.search('(.*)LeftNavDynamicContent',mp_html).start()\n",
    "# nav_html = mp_html[nav_start:nav_end]"
   ]
  },
  {
   "cell_type": "code",
   "execution_count": 91,
   "metadata": {
    "collapsed": true
   },
   "outputs": [],
   "source": [
    "nav_html = \"</select><div id=\\\"leftnavfilternote\\\"></div></form><b>Select Area...</b><br><a target=\\\"_top\\\" href=\\\"/v/barton-creek-greenbelt/105905087\\\">Barton Creek Greenbelt</a>&nbsp;<span id=\\\"leftnav_105905087\\\"><span class=\\\"small\\\" style=\\\"color:#555\\\">(89)</span></span><br><a target=\\\"_top\\\" href=\\\"/v/big-bend-national-park/106192146\\\">Big Bend National Park</a>&nbsp;<span id=\\\"leftnav_106192146\\\"><span class=\\\"small\\\" style=\\\"color:#555\\\">(3)</span></span><br><a target=\\\"_top\\\" href=\\\"/v/brownwood/107217388\\\">Brownwood</a>&nbsp;<span id=\\\"leftnav_107217388\\\"><span class=\\\"small\\\" style=\\\"color:#555\\\">(7)</span></span><br><a target=\\\"_top\\\" href=\\\"/v/bull-creek-park/105995719\\\">Bull Creek Park</a>&nbsp;<span id=\\\"leftnav_105995719\\\"><span class=\\\"small\\\" style=\\\"color:#555\\\">(17)</span></span><br><a target=\\\"_top\\\" href=\\\"/v/camp-eagle/106160063\\\">Camp Eagle</a>&nbsp;<span id=\\\"leftnav_106160063\\\"><span class=\\\"small\\\" style=\\\"color:#555\\\">(34)</span></span><br><a target=\\\"_top\\\" href=\\\"/v/caprock-canyons-state-park/107436412\\\">Caprock Canyons State Park</a>&nbsp;<span id=\\\"leftnav_107436412\\\"><span class=\\\"small\\\" style=\\\"color:#555\\\">(6)</span></span><br><a target=\\\"_top\\\" href=\\\"/v/continental-ranch/106169626\\\">Continental Ranch</a>&nbsp;<span id=\\\"leftnav_106169626\\\"><span class=\\\"small\\\" style=\\\"color:#555\\\">(2)</span></span><br><a target=\\\"_top\\\" href=\\\"/v/cub-cave/107692386\\\">Cub Cave</a>&nbsp;<span id=\\\"leftnav_107692386\\\"><span class=\\\"small\\\" style=\\\"color:#555\\\">(4)</span></span><br><a target=\\\"_top\\\" href=\\\"/v/dallas-park-city-buildering/107109516\\\">Dallas Park City Buildering</a>&nbsp;<span id=\\\"leftnav_107109516\\\"><span class=\\\"small\\\" style=\\\"color:#555\\\">(4)</span></span><br><a target=\\\"_top\\\" href=\\\"/v/eisenhower-state-park/108032515\\\">Eisenhower State Park</a>&nbsp;<span id=\\\"leftnav_108032515\\\"><span class=\\\"small\\\" style=\\\"color:#555\\\">(14)</span></span><br><a target=\\\"_top\\\" href=\\\"/v/enchanted-rock-state-natural-area/105855196\\\">Enchanted Rock State Natural Area</a>&nbsp;<span id=\\\"leftnav_105855196\\\"><span class=\\\"small\\\" style=\\\"color:#555\\\">(262)</span></span><br><a target=\\\"_top\\\" href=\\\"/v/franklin-mountain-range/106779455\\\">Franklin Mountain Range</a>&nbsp;<span id=\\\"leftnav_106779455\\\"><span class=\\\"small\\\" style=\\\"color:#555\\\">(39)</span></span><br><a target=\\\"_top\\\" href=\\\"/v/georgetown-hospital/106715082\\\">Georgetown Hospital</a>&nbsp;<span id=\\\"leftnav_106715082\\\"><span class=\\\"small\\\" style=\\\"color:#555\\\">(22)</span></span><br><a target=\\\"_top\\\" href=\\\"/v/hostility-boulders-aka-ham-creek-park/106987330\\\">Hostility Boulders aka ham creek park</a>&nbsp;<span id=\\\"leftnav_106987330\\\"><span class=\\\"small\\\" style=\\\"color:#555\\\">(1)</span></span><br><a target=\\\"_top\\\" href=\\\"/v/hueco-tanks/105810691\\\">Hueco Tanks</a>&nbsp;<span id=\\\"leftnav_105810691\\\"><span class=\\\"small\\\" style=\\\"color:#555\\\">(440)</span></span><br><a target=\\\"_top\\\" href=\\\"/v/lake-whitney-dws/107079978\\\">Lake Whitney (DWS)</a>&nbsp;<span id=\\\"leftnav_107079978\\\"><span class=\\\"small\\\" style=\\\"color:#555\\\">(12)</span></span><br><a target=\\\"_top\\\" href=\\\"/v/lubbock-tx-lapstrike-gateway/110148271\\\">Lubbock, Tx (Lapstrike Gateway)</a>&nbsp;<span id=\\\"leftnav_110148271\\\"><span class=\\\"small\\\" style=\\\"color:#555\\\">(8)</span></span><br><a target=\\\"_top\\\" href=\\\"/v/matilda-bridge/108128458\\\">Matilda Bridge</a>&nbsp;<span id=\\\"leftnav_108128458\\\"><span class=\\\"small\\\" style=\\\"color:#555\\\">(3)</span></span><br><a target=\\\"_top\\\" href=\\\"/v/mckinney-falls-state-park/106265889\\\">McKinney Falls State Park</a>&nbsp;<span id=\\\"leftnav_106265889\\\"><span class=\\\"small\\\" style=\\\"color:#555\\\">(59)</span></span><br><a target=\\\"_top\\\" href=\\\"/v/medicine-wall/107143945\\\">Medicine Wall</a>&nbsp;<span id=\\\"leftnav_107143945\\\"><span class=\\\"small\\\" style=\\\"color:#555\\\">(37)</span></span><br><a target=\\\"_top\\\" href=\\\"/v/mineral-wells-state-park/106033369\\\">Mineral Wells State Park</a>&nbsp;<span id=\\\"leftnav_106033369\\\"><span class=\\\"small\\\" style=\\\"color:#555\\\">(30)</span></span><br><a target=\\\"_top\\\" href=\\\"/v/monster-rock/106147903\\\">Monster Rock</a>&nbsp;<span id=\\\"leftnav_106147903\\\"><span class=\\\"small\\\" style=\\\"color:#555\\\">(43)</span></span><br><a target=\\\"_top\\\" href=\\\"/v/morgans-point/107452541\\\">Morgan's Point</a>&nbsp;<span id=\\\"leftnav_107452541\\\"><span class=\\\"small\\\" style=\\\"color:#555\\\">(13)</span></span><br><a target=\\\"_top\\\" href=\\\"/v/nolan-river-/106994625\\\">Nolan River </a>&nbsp;<span id=\\\"leftnav_106994625\\\"><span class=\\\"small\\\" style=\\\"color:#555\\\">(8)</span></span><br><a target=\\\"_top\\\" href=\\\"/v/notrees/107032132\\\">Notrees</a>&nbsp;<span id=\\\"leftnav_107032132\\\"><span class=\\\"small\\\" style=\\\"color:#555\\\">(1)</span></span><br><a target=\\\"_top\\\" href=\\\"/v/pace-bend-park-dws/107104361\\\">Pace Bend Park (DWS)</a>&nbsp;<span id=\\\"leftnav_107104361\\\"><span class=\\\"small\\\" style=\\\"color:#555\\\">(0)</span></span><br><a target=\\\"_top\\\" href=\\\"/v/palo-duro-canyon-state-park/106531575\\\">Palo Duro Canyon State Park</a>&nbsp;<span id=\\\"leftnav_106531575\\\"><span class=\\\"small\\\" style=\\\"color:#555\\\">(120)</span></span><br><a target=\\\"_top\\\" href=\\\"/v/paluxy-river-boulders/106833262\\\">Paluxy River Boulders</a>&nbsp;<span id=\\\"leftnav_106833262\\\"><span class=\\\"small\\\" style=\\\"color:#555\\\">(68)</span></span><br><a target=\\\"_top\\\" href=\\\"/v/paradise-on-the-brazos/107212483\\\">Paradise on the Brazos</a>&nbsp;<span id=\\\"leftnav_107212483\\\"><span class=\\\"small\\\" style=\\\"color:#555\\\">(99)</span></span><br><a target=\\\"_top\\\" href=\\\"/v/pecos-river-dws-deep-water-solo-/109817878\\\">Pecos River DWS (Deep Water Solo) </a>&nbsp;<span id=\\\"leftnav_109817878\\\"><span class=\\\"small\\\" style=\\\"color:#555\\\">(3)</span></span><br><a target=\\\"_top\\\" href=\\\"/v/pedernales-falls-state-park/110104342\\\">Pedernales Falls State Park</a>&nbsp;<span id=\\\"leftnav_110104342\\\"><span class=\\\"small\\\" style=\\\"color:#555\\\">(0)</span></span><br><a target=\\\"_top\\\" href=\\\"/v/point-of-rocks/106389388\\\">Point of Rocks</a>&nbsp;<span id=\\\"leftnav_106389388\\\"><span class=\\\"small\\\" style=\\\"color:#555\\\">(0)</span></span><br><a target=\\\"_top\\\" href=\\\"/v/red-bluff/106208371\\\">Red Bluff</a>&nbsp;<span id=\\\"leftnav_106208371\\\"><span class=\\\"small\\\" style=\\\"color:#555\\\">(7)</span></span><br><a target=\\\"_top\\\" href=\\\"/v/reimers-ranch/105837312\\\">Reimer's Ranch</a>&nbsp;<span id=\\\"leftnav_105837312\\\"><span class=\\\"small\\\" style=\\\"color:#555\\\">(216)</span></span><br><a target=\\\"_top\\\" href=\\\"/v/reimers-ranch-north-shore/107788017\\\">Reimer's Ranch North Shore</a>&nbsp;<span id=\\\"leftnav_107788017\\\"><span class=\\\"small\\\" style=\\\"color:#555\\\">(130)</span></span><br><a target=\\\"_top\\\" href=\\\"/v/rogers-park/106084033\\\">Rogers Park</a>&nbsp;<span id=\\\"leftnav_106084033\\\"><span class=\\\"small\\\" style=\\\"color:#555\\\">(49)</span></span><br><a target=\\\"_top\\\" href=\\\"/v/rosemeade-park-boulder/107115900\\\">Rosemeade Park Boulder</a>&nbsp;<span id=\\\"leftnav_107115900\\\"><span class=\\\"small\\\" style=\\\"color:#555\\\">(0)</span></span><br><a target=\\\"_top\\\" href=\\\"/v/san-gabriel-walking-trail/107706018\\\">San Gabriel Walking Trail</a>&nbsp;<span id=\\\"leftnav_107706018\\\"><span class=\\\"small\\\" style=\\\"color:#555\\\">(1)</span></span><br><a target=\\\"_top\\\" href=\\\"/v/tonkawa-falls/106992314\\\">Tonkawa Falls</a>&nbsp;<span id=\\\"leftnav_106992314\\\"><span class=\\\"small\\\" style=\\\"color:#555\\\">(33)</span></span><br><a target=\\\"_top\\\" href=\\\"/v/wimberley-boulders/108516790\\\">Wimberley Boulders</a>&nbsp;<span id=\\\"leftnav_108516790\\\"><span class=\\\"small\\\" style=\\\"color:#555\\\">(2)</span></span><br><script>LeftNavDynamicContent(105835804);</script>\""
   ]
  },
  {
   "cell_type": "code",
   "execution_count": 92,
   "metadata": {
    "collapsed": false
   },
   "outputs": [
    {
     "name": "stdout",
     "output_type": "stream",
     "text": [
      "42\n"
     ]
    },
    {
     "ename": "error",
     "evalue": "bad character range",
     "output_type": "error",
     "traceback": [
      "\u001b[0;31m---------------------------------------------------------------------------\u001b[0m",
      "\u001b[0;31merror\u001b[0m                                     Traceback (most recent call last)",
      "\u001b[0;32m<ipython-input-92-184b5aa2ff07>\u001b[0m in \u001b[0;36m<module>\u001b[0;34m()\u001b[0m\n\u001b[1;32m      1\u001b[0m \u001b[0msplt\u001b[0m \u001b[0;34m=\u001b[0m \u001b[0mnav_html\u001b[0m\u001b[0;34m.\u001b[0m\u001b[0msplit\u001b[0m\u001b[0;34m(\u001b[0m\u001b[0;34m'<br>'\u001b[0m\u001b[0;34m)\u001b[0m\u001b[0;34m\u001b[0m\u001b[0m\n\u001b[1;32m      2\u001b[0m \u001b[0;32mprint\u001b[0m \u001b[0mlen\u001b[0m\u001b[0;34m(\u001b[0m\u001b[0msplt\u001b[0m\u001b[0;34m)\u001b[0m\u001b[0;34m\u001b[0m\u001b[0m\n\u001b[0;32m----> 3\u001b[0;31m \u001b[0;32mprint\u001b[0m \u001b[0mget_info_from_html\u001b[0m\u001b[0;34m(\u001b[0m\u001b[0msplt\u001b[0m\u001b[0;34m[\u001b[0m\u001b[0;36m10\u001b[0m\u001b[0;34m]\u001b[0m\u001b[0;34m)\u001b[0m\u001b[0;34m\u001b[0m\u001b[0m\n\u001b[0m",
      "\u001b[0;32m<ipython-input-85-f894d2b589bb>\u001b[0m in \u001b[0;36mget_info_from_html\u001b[0;34m(html)\u001b[0m\n\u001b[1;32m     19\u001b[0m         \u001b[0mpage_index\u001b[0m \u001b[0;34m=\u001b[0m \u001b[0mre\u001b[0m\u001b[0;34m.\u001b[0m\u001b[0msearch\u001b[0m\u001b[0;34m(\u001b[0m\u001b[0;34mr'(\\d)+'\u001b[0m\u001b[0;34m,\u001b[0m \u001b[0mhidden_url\u001b[0m\u001b[0;34m)\u001b[0m\u001b[0;34m.\u001b[0m\u001b[0mgroup\u001b[0m\u001b[0;34m(\u001b[0m\u001b[0;36m0\u001b[0m\u001b[0;34m)\u001b[0m\u001b[0;34m\u001b[0m\u001b[0m\n\u001b[1;32m     20\u001b[0m \u001b[0;34m\u001b[0m\u001b[0m\n\u001b[0;32m---> 21\u001b[0;31m     \u001b[0;32mif\u001b[0m \u001b[0mre\u001b[0m\u001b[0;34m.\u001b[0m\u001b[0msearch\u001b[0m\u001b[0;34m(\u001b[0m\u001b[0;34mr\">[A-z ()-'/]+<\"\u001b[0m\u001b[0;34m,\u001b[0m \u001b[0mhidden_url\u001b[0m\u001b[0;34m)\u001b[0m \u001b[0;34m!=\u001b[0m \u001b[0mNone\u001b[0m\u001b[0;34m:\u001b[0m\u001b[0;34m\u001b[0m\u001b[0m\n\u001b[0m\u001b[1;32m     22\u001b[0m         \u001b[0mpage_label\u001b[0m \u001b[0;34m=\u001b[0m \u001b[0mre\u001b[0m\u001b[0;34m.\u001b[0m\u001b[0msearch\u001b[0m\u001b[0;34m(\u001b[0m\u001b[0;34mr'>[A-z ()-/]+<'\u001b[0m\u001b[0;34m,\u001b[0m \u001b[0mhidden_url\u001b[0m\u001b[0;34m)\u001b[0m\u001b[0;34m.\u001b[0m\u001b[0mgroup\u001b[0m\u001b[0;34m(\u001b[0m\u001b[0;36m0\u001b[0m\u001b[0;34m)\u001b[0m\u001b[0;34m\u001b[0m\u001b[0m\n\u001b[1;32m     23\u001b[0m         \u001b[0mpage_label\u001b[0m \u001b[0;34m=\u001b[0m \u001b[0mpage_label\u001b[0m\u001b[0;34m[\u001b[0m\u001b[0;36m1\u001b[0m\u001b[0;34m:\u001b[0m\u001b[0;34m-\u001b[0m\u001b[0;36m1\u001b[0m\u001b[0;34m]\u001b[0m\u001b[0;34m\u001b[0m\u001b[0m\n",
      "\u001b[0;32m/Users/adam.evans/anaconda/lib/python2.7/re.pyc\u001b[0m in \u001b[0;36msearch\u001b[0;34m(pattern, string, flags)\u001b[0m\n\u001b[1;32m    144\u001b[0m     \"\"\"Scan through string looking for a match to the pattern, returning\n\u001b[1;32m    145\u001b[0m     a match object, or None if no match was found.\"\"\"\n\u001b[0;32m--> 146\u001b[0;31m     \u001b[0;32mreturn\u001b[0m \u001b[0m_compile\u001b[0m\u001b[0;34m(\u001b[0m\u001b[0mpattern\u001b[0m\u001b[0;34m,\u001b[0m \u001b[0mflags\u001b[0m\u001b[0;34m)\u001b[0m\u001b[0;34m.\u001b[0m\u001b[0msearch\u001b[0m\u001b[0;34m(\u001b[0m\u001b[0mstring\u001b[0m\u001b[0;34m)\u001b[0m\u001b[0;34m\u001b[0m\u001b[0m\n\u001b[0m\u001b[1;32m    147\u001b[0m \u001b[0;34m\u001b[0m\u001b[0m\n\u001b[1;32m    148\u001b[0m \u001b[0;32mdef\u001b[0m \u001b[0msub\u001b[0m\u001b[0;34m(\u001b[0m\u001b[0mpattern\u001b[0m\u001b[0;34m,\u001b[0m \u001b[0mrepl\u001b[0m\u001b[0;34m,\u001b[0m \u001b[0mstring\u001b[0m\u001b[0;34m,\u001b[0m \u001b[0mcount\u001b[0m\u001b[0;34m=\u001b[0m\u001b[0;36m0\u001b[0m\u001b[0;34m,\u001b[0m \u001b[0mflags\u001b[0m\u001b[0;34m=\u001b[0m\u001b[0;36m0\u001b[0m\u001b[0;34m)\u001b[0m\u001b[0;34m:\u001b[0m\u001b[0;34m\u001b[0m\u001b[0m\n",
      "\u001b[0;32m/Users/adam.evans/anaconda/lib/python2.7/re.pyc\u001b[0m in \u001b[0;36m_compile\u001b[0;34m(*key)\u001b[0m\n\u001b[1;32m    249\u001b[0m         \u001b[0mp\u001b[0m \u001b[0;34m=\u001b[0m \u001b[0msre_compile\u001b[0m\u001b[0;34m.\u001b[0m\u001b[0mcompile\u001b[0m\u001b[0;34m(\u001b[0m\u001b[0mpattern\u001b[0m\u001b[0;34m,\u001b[0m \u001b[0mflags\u001b[0m\u001b[0;34m)\u001b[0m\u001b[0;34m\u001b[0m\u001b[0m\n\u001b[1;32m    250\u001b[0m     \u001b[0;32mexcept\u001b[0m \u001b[0merror\u001b[0m\u001b[0;34m,\u001b[0m \u001b[0mv\u001b[0m\u001b[0;34m:\u001b[0m\u001b[0;34m\u001b[0m\u001b[0m\n\u001b[0;32m--> 251\u001b[0;31m         \u001b[0;32mraise\u001b[0m \u001b[0merror\u001b[0m\u001b[0;34m,\u001b[0m \u001b[0mv\u001b[0m \u001b[0;31m# invalid expression\u001b[0m\u001b[0;34m\u001b[0m\u001b[0m\n\u001b[0m\u001b[1;32m    252\u001b[0m     \u001b[0;32mif\u001b[0m \u001b[0;32mnot\u001b[0m \u001b[0mbypass_cache\u001b[0m\u001b[0;34m:\u001b[0m\u001b[0;34m\u001b[0m\u001b[0m\n\u001b[1;32m    253\u001b[0m         \u001b[0;32mif\u001b[0m \u001b[0mlen\u001b[0m\u001b[0;34m(\u001b[0m\u001b[0m_cache\u001b[0m\u001b[0;34m)\u001b[0m \u001b[0;34m>=\u001b[0m \u001b[0m_MAXCACHE\u001b[0m\u001b[0;34m:\u001b[0m\u001b[0;34m\u001b[0m\u001b[0m\n",
      "\u001b[0;31merror\u001b[0m: bad character range"
     ]
    }
   ],
   "source": [
    "splt = nav_html.split('<br>')\n",
    "print len(splt)\n",
    "print get_info_from_html(splt[10])"
   ]
  },
  {
   "cell_type": "code",
   "execution_count": 17,
   "metadata": {
    "collapsed": false
   },
   "outputs": [
    {
     "name": "stdout",
     "output_type": "stream",
     "text": [
      "105798164\n"
     ]
    }
   ],
   "source": [
    "# empty JSON\n",
    "area_tree = [{}]\n",
    "\n",
    "dest_iter = re.finditer(r\"href=\\\".*\\\"\",nav_html)\n",
    "for area in dest_iter:\n",
    "    if area != None:\n",
    "        html = state.group(0)\n",
    "        print re.search(r'(\\d)+',html).group(0)"
   ]
  },
  {
   "cell_type": "code",
   "execution_count": 18,
   "metadata": {
    "collapsed": false
   },
   "outputs": [],
   "source": [
    "for i in dest_iter:\n",
    "    print i"
   ]
  },
  {
   "cell_type": "code",
   "execution_count": 19,
   "metadata": {
    "collapsed": false
   },
   "outputs": [
    {
     "data": {
      "text/plain": [
       "98"
      ]
     },
     "execution_count": 19,
     "metadata": {},
     "output_type": "execute_result"
    }
   ],
   "source": [
    "re.search(\"href=\\\"\",nav_html).end()"
   ]
  },
  {
   "cell_type": "code",
   "execution_count": 101,
   "metadata": {
    "collapsed": false
   },
   "outputs": [],
   "source": [
    "h = \"<a target=\\\"_top\\\" href=\\\"/v/morgans-point/107452541\\\">Morgan's Point</a>\""
   ]
  },
  {
   "cell_type": "code",
   "execution_count": 103,
   "metadata": {
    "collapsed": false
   },
   "outputs": [
    {
     "data": {
      "text/plain": [
       "\">Morgan's Point<\""
      ]
     },
     "execution_count": 103,
     "metadata": {},
     "output_type": "execute_result"
    }
   ],
   "source": [
    "re.search('>[A-z \\'()-/]+<',h).group(0)"
   ]
  },
  {
   "cell_type": "code",
   "execution_count": null,
   "metadata": {
    "collapsed": true
   },
   "outputs": [],
   "source": []
  }
 ],
 "metadata": {
  "kernelspec": {
   "display_name": "Python 2",
   "language": "python",
   "name": "python2"
  },
  "language_info": {
   "codemirror_mode": {
    "name": "ipython",
    "version": 2
   },
   "file_extension": ".py",
   "mimetype": "text/x-python",
   "name": "python",
   "nbconvert_exporter": "python",
   "pygments_lexer": "ipython2",
   "version": "2.7.10"
  }
 },
 "nbformat": 4,
 "nbformat_minor": 0
}
