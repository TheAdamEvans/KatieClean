{
 "cells": [
  {
   "cell_type": "code",
   "execution_count": 74,
   "metadata": {
    "collapsed": false
   },
   "outputs": [],
   "source": [
    "# coding: utf-8\n",
    "\n",
    "import re\n",
    "import json\n",
    "import urllib2\n",
    "import sys\n",
    "\n",
    "def get_info_from_html(html):\n",
    "\n",
    "    # finds a long digit\n",
    "    idRE = re.compile(r\"1(\\d)(\\d)(\\d)+\")\n",
    "    if idRE.search(html) != None:\n",
    "        page_index = idRE.search(html).group(0)\n",
    "\n",
    "    # finds something in between >  <\n",
    "    # BAD *$&@%$*&% will breka this\n",
    "    labelRE = re.compile(r\">[0-9A-z \\'()-/]+<\")\n",
    "    if labelRE.search(html) != None:\n",
    "        page_label = labelRE.search(html).group(0)\n",
    "        page_label = page_label[1:-1]\n",
    "    \n",
    "    if 'page_index' in locals() and 'page_label' in locals():\n",
    "        url = 'http://www.mountainproject.com/v/' + page_index\n",
    "\n",
    "        # TODO package back should be JSON\n",
    "        return page_index, page_label, url\n",
    "    else:\n",
    "        return None\n",
    "\n",
    "\n",
    "def get_children(url):\n",
    "    from bs4 import BeautifulSoup\n",
    "\n",
    "    try:\n",
    "        mp_page = urllib2.urlopen(url)\n",
    "    except:\n",
    "        return None\n",
    "    else:\n",
    "        mp_html = mp_page.read()\n",
    "        \n",
    "        website_tree = {}\n",
    "        \n",
    "        if url == 'http://www.mountainproject.com/destinations/':\n",
    "            soup = BeautifulSoup(mp_html, 'html.parser')\n",
    "            dest_iter = [str(s) for s in soup.find_all('span') if re.search(\"destArea\",str(s)) != None]\n",
    "        else:\n",
    "            # look for left Nav\n",
    "            nav_start = re.search('leftnavfilternote(.*)',mp_html).end()\n",
    "            nav_end = re.search('(.*)LeftNavDynamicContent',mp_html).start()\n",
    "            nav_html = mp_html[nav_start:nav_end]\n",
    "            \n",
    "            # break out location rows\n",
    "            TRIM = 26\n",
    "            dest_iter = nav_html[TRIM:].split('<br/>')\n",
    "        \n",
    "        for dest in dest_iter:\n",
    "            features = get_info_from_html(dest)\n",
    "            \n",
    "            if features != None:\n",
    "                print features # show all the URLs\n",
    "                page_index, page_label, url = features\n",
    "                data = { 'pageID':page_index, 'label':page_label, 'url':url }\n",
    "                website_tree[page_label] = data\n",
    "            else:\n",
    "                print dest\n",
    "        \n",
    "        return website_tree\n",
    "    \n",
    "\n",
    "def preorder(tree):\n",
    "    if tree:\n",
    "        print tree['label']\n",
    "        preorder()\n",
    "\n",
    "\n",
    "# while set(children)!=set(grandchildren):\n",
    "#         return info\n",
    "#     else:\n",
    "#         children = get_children(url)\n",
    "#         one_child = children.itervalues().next()\n",
    "#         grandchildren = get_children(one_child['url'], children)\n",
    "#         return info.append(info)\n",
    "\n",
    "# url = 'http://www.mountainproject.com/destinations/'\n",
    "# info = {}\n",
    "# info['root'] = { 'pageID':'', 'label':'root', 'url':'' }\n",
    "\n",
    "# info = fathom(url)\n"
   ]
  },
  {
   "cell_type": "code",
   "execution_count": 61,
   "metadata": {
    "collapsed": false
   },
   "outputs": [
    {
     "data": {
      "text/plain": [
       "False"
      ]
     },
     "execution_count": 61,
     "metadata": {},
     "output_type": "execute_result"
    }
   ],
   "source": []
  },
  {
   "cell_type": "code",
   "execution_count": 62,
   "metadata": {
    "collapsed": false
   },
   "outputs": [
    {
     "data": {
      "text/plain": [
       "{'label': 'Oklahoma',\n",
       " 'pageID': '105854466',\n",
       " 'url': 'http://www.mountainproject.com/v/105854466'}"
      ]
     },
     "execution_count": 62,
     "metadata": {},
     "output_type": "execute_result"
    }
   ],
   "source": [
    "one_child"
   ]
  },
  {
   "cell_type": "code",
   "execution_count": 63,
   "metadata": {
    "collapsed": false
   },
   "outputs": [
    {
     "data": {
      "text/plain": [
       "{'Avery Drive ( Tulsa )': {'label': 'Avery Drive ( Tulsa )',\n",
       "  'pageID': '107286155',\n",
       "  'url': 'http://www.mountainproject.com/v/107286155'},\n",
       " 'Chandler Park': {'label': 'Chandler Park',\n",
       "  'pageID': '105915445',\n",
       "  'url': 'http://www.mountainproject.com/v/105915445'},\n",
       " 'Eufaula Lake': {'label': 'Eufaula Lake',\n",
       "  'pageID': '105992706',\n",
       "  'url': 'http://www.mountainproject.com/v/105992706'},\n",
       " 'Fort Gibson': {'label': 'Fort Gibson',\n",
       "  'pageID': '111566925',\n",
       "  'url': 'http://www.mountainproject.com/v/111566925'},\n",
       " 'Hominy ': {'label': 'Hominy ',\n",
       "  'pageID': '110402268',\n",
       "  'url': 'http://www.mountainproject.com/v/110402268'},\n",
       " 'Lake Atoka': {'label': 'Lake Atoka',\n",
       "  'pageID': '107116093',\n",
       "  'url': 'http://www.mountainproject.com/v/107116093'},\n",
       " 'Lake Tenkiller Dam': {'label': 'Lake Tenkiller Dam',\n",
       "  'pageID': '105920743',\n",
       "  'url': 'http://www.mountainproject.com/v/105920743'},\n",
       " 'Limestone Gap': {'label': 'Limestone Gap',\n",
       "  'pageID': '107122871',\n",
       "  'url': 'http://www.mountainproject.com/v/107122871'},\n",
       " 'Little Germany': {'label': 'Little Germany',\n",
       "  'pageID': '106485313',\n",
       "  'url': 'http://www.mountainproject.com/v/106485313'},\n",
       " 'McGee Creek Natural Scenic Recreaton Area': {'label': 'McGee Creek Natural Scenic Recreaton Area',\n",
       "  'pageID': '107123013',\n",
       "  'url': 'http://www.mountainproject.com/v/107123013'},\n",
       " 'Osage Hills': {'label': 'Osage Hills',\n",
       "  'pageID': '106088693',\n",
       "  'url': 'http://www.mountainproject.com/v/106088693'},\n",
       " 'Quartz Mountain': {'label': 'Quartz Mountain',\n",
       "  'pageID': '105854470',\n",
       "  'url': 'http://www.mountainproject.com/v/105854470'},\n",
       " 'Robbers Cave State Park': {'label': 'Robbers Cave State Park',\n",
       "  'pageID': '107118178',\n",
       "  'url': 'http://www.mountainproject.com/v/107118178'},\n",
       " 'Round Top Mountain': {'label': 'Round Top Mountain',\n",
       "  'pageID': '107122851',\n",
       "  'url': 'http://www.mountainproject.com/v/107122851'},\n",
       " 'Sand Springs': {'label': 'Sand Springs',\n",
       "  'pageID': '107992873',\n",
       "  'url': 'http://www.mountainproject.com/v/107992873'},\n",
       " 'Shotgun': {'label': 'Shotgun',\n",
       "  'pageID': '109090296',\n",
       "  'url': 'http://www.mountainproject.com/v/109090296'},\n",
       " 'Silo, The': {'label': 'Silo, The',\n",
       "  'pageID': '105992583',\n",
       "  'url': 'http://www.mountainproject.com/v/105992583'},\n",
       " 'Wichita Wildlife Refuge': {'label': 'Wichita Wildlife Refuge',\n",
       "  'pageID': '105858670',\n",
       "  'url': 'http://www.mountainproject.com/v/105858670'},\n",
       " 'Zen Pen': {'label': 'Zen Pen',\n",
       "  'pageID': '105988507',\n",
       "  'url': 'http://www.mountainproject.com/v/105988507'}}"
      ]
     },
     "execution_count": 63,
     "metadata": {},
     "output_type": "execute_result"
    }
   ],
   "source": [
    "grandchildren"
   ]
  },
  {
   "cell_type": "raw",
   "metadata": {},
   "source": []
  },
  {
   "cell_type": "code",
   "execution_count": 58,
   "metadata": {
    "collapsed": false
   },
   "outputs": [
    {
     "name": "stdout",
     "output_type": "stream",
     "text": [
      "{'url': 'http://www.mountainproject.com/v/105854466', 'pageID': '105854466', 'label': 'Oklahoma'}\n"
     ]
    }
   ],
   "source": [
    "print children.itervalues().next()"
   ]
  },
  {
   "cell_type": "code",
   "execution_count": 40,
   "metadata": {
    "collapsed": false
   },
   "outputs": [
    {
     "data": {
      "text/plain": [
       "<_sre.SRE_Match at 0x104454af8>"
      ]
     },
     "execution_count": 40,
     "metadata": {},
     "output_type": "execute_result"
    }
   ],
   "source": [
    "html = 'qwlkjeflkwejf12358793487523948asiduhfiusdh'\n",
    "idRE = re.compile(r\"1(\\d)+\")\n",
    "idRE.search(html)"
   ]
  },
  {
   "cell_type": "code",
   "execution_count": 67,
   "metadata": {
    "collapsed": false
   },
   "outputs": [
    {
     "ename": "NameError",
     "evalue": "name 'dest_iter' is not defined",
     "output_type": "error",
     "traceback": [
      "\u001b[0;31m---------------------------------------------------------------------------\u001b[0m",
      "\u001b[0;31mNameError\u001b[0m                                 Traceback (most recent call last)",
      "\u001b[0;32m<ipython-input-67-0fb886bac76f>\u001b[0m in \u001b[0;36m<module>\u001b[0;34m()\u001b[0m\n\u001b[1;32m      8\u001b[0m \u001b[0msoup\u001b[0m \u001b[0;34m=\u001b[0m \u001b[0mBeautifulSoup\u001b[0m\u001b[0;34m(\u001b[0m\u001b[0mmp_html\u001b[0m\u001b[0;34m,\u001b[0m \u001b[0;34m'html.parser'\u001b[0m\u001b[0;34m)\u001b[0m\u001b[0;34m\u001b[0m\u001b[0m\n\u001b[1;32m      9\u001b[0m \u001b[0;34m\u001b[0m\u001b[0m\n\u001b[0;32m---> 10\u001b[0;31m \u001b[0;32mfor\u001b[0m \u001b[0mdest\u001b[0m \u001b[0;32min\u001b[0m \u001b[0mdest_iter\u001b[0m\u001b[0;34m:\u001b[0m\u001b[0;34m\u001b[0m\u001b[0m\n\u001b[0m\u001b[1;32m     11\u001b[0m     \u001b[0mi\u001b[0m \u001b[0;34m=\u001b[0m \u001b[0mget_info_from_html\u001b[0m\u001b[0;34m(\u001b[0m\u001b[0mdest\u001b[0m\u001b[0;34m)\u001b[0m\u001b[0;34m\u001b[0m\u001b[0m\n\u001b[1;32m     12\u001b[0m     \u001b[0;32mprint\u001b[0m \u001b[0mi\u001b[0m\u001b[0;34m\u001b[0m\u001b[0m\n",
      "\u001b[0;31mNameError\u001b[0m: name 'dest_iter' is not defined"
     ]
    }
   ],
   "source": [
    "from bs4 import BeautifulSoup\n",
    "import urllib2\n",
    "\n",
    "url = 'http://www.mountainproject.com/destinations/'\n",
    "mp_page = urllib2.urlopen(url)\n",
    "mp_html = mp_page.read()\n",
    "\n",
    "soup = BeautifulSoup(mp_html, 'html.parser')\n",
    "\n",
    "# for dest in dest_iter:\n",
    "#     i = get_info_from_html(dest)\n",
    "#     print i\n",
    "\n",
    "#soup.find_all('span')\n",
    "\n",
    "\n",
    "    \n",
    "    \n"
   ]
  },
  {
   "cell_type": "code",
   "execution_count": 66,
   "metadata": {
    "collapsed": true
   },
   "outputs": [],
   "source": [
    "def preorder(tree):\n",
    "    if tree:\n",
    "        print(tree.getRootVal())\n",
    "        preorder(tree.getLeftChild())\n",
    "        preorder(tree.getRightChild())"
   ]
  },
  {
   "cell_type": "code",
   "execution_count": null,
   "metadata": {
    "collapsed": true
   },
   "outputs": [],
   "source": [
    "getRootValue = get_info_from_html()"
   ]
  }
 ],
 "metadata": {
  "kernelspec": {
   "display_name": "Python 2",
   "language": "python",
   "name": "python2"
  },
  "language_info": {
   "codemirror_mode": {
    "name": "ipython",
    "version": 2
   },
   "file_extension": ".py",
   "mimetype": "text/x-python",
   "name": "python",
   "nbconvert_exporter": "python",
   "pygments_lexer": "ipython2",
   "version": "2.7.10"
  }
 },
 "nbformat": 4,
 "nbformat_minor": 0
}
