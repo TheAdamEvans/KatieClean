{
 "cells": [
  {
   "cell_type": "code",
   "execution_count": 1,
   "metadata": {
    "collapsed": true
   },
   "outputs": [],
   "source": [
    "import re\n",
    "import json\n",
    "import urllib2\n",
    "import sys\n",
    "from bs4 import BeautifulSoup"
   ]
  },
  {
   "cell_type": "code",
   "execution_count": 2,
   "metadata": {
    "collapsed": true
   },
   "outputs": [],
   "source": [
    "def get_info_from_html(html):\n",
    "\n",
    "    # finds a long digit\n",
    "    idRE = re.compile(r\"1(\\d)(\\d)(\\d)+\")\n",
    "    if idRE.search(html) != None:\n",
    "        page_index = idRE.search(html).group(0)\n",
    "\n",
    "    # finds something in between >  <\n",
    "    # BAD *$&@%$*&% will breka this\n",
    "    labelRE = re.compile(r\">[0-9A-z \\'()-/]+<\")\n",
    "    if labelRE.search(html) != None:\n",
    "        page_label = labelRE.search(html).group(0)\n",
    "        page_label = page_label[1:-1]\n",
    "    \n",
    "    if 'page_index' in locals() and 'page_label' in locals():\n",
    "        # url = 'http://www.mountainproject.com/v/' + page_index\n",
    "\n",
    "        # TODO package back should be JSON\n",
    "        return page_index, page_label #, url\n",
    "    else:\n",
    "        return None"
   ]
  },
  {
   "cell_type": "code",
   "execution_count": 3,
   "metadata": {
    "collapsed": false
   },
   "outputs": [],
   "source": [
    "def get_children(page_id):\n",
    "    \n",
    "    url = 'http://www.mountainproject.com/v/' + str(page_id)\n",
    "    \n",
    "    try:\n",
    "        mp_page = urllib2.urlopen(url)\n",
    "    except:\n",
    "        return None\n",
    "    else:\n",
    "        mp_html = mp_page.read()\n",
    "        soup = BeautifulSoup(mp_html, 'html.parser')\n",
    "        \n",
    "        website_tree = {}\n",
    "        \n",
    "        if url == 'http://www.mountainproject.com/v/':\n",
    "            dest_iter = [str(s) for s in soup.find_all('span') if re.search(\"destArea\",str(s)) != None]\n",
    "        elif re.search(\"leftNavRoutes\", mp_html) != None:\n",
    "            t = str(soup.find(id=\"leftNavRoutes\"))\n",
    "            dest_iter = t.split(\"</td><td>\")\n",
    "        elif re.search('leftnavfilternote(.*)',mp_html) != None:\n",
    "            nav_start = re.search('leftnavfilternote(.*)',mp_html).end()\n",
    "            nav_end = re.search('(.*)LeftNavDynamicContent',mp_html).start()\n",
    "            nav_html = mp_html[nav_start:nav_end]\n",
    "            \n",
    "            # break out location rows\n",
    "            TRIM = 26\n",
    "            dest_iter = nav_html[TRIM:].split('<br/>')\n",
    "        else:\n",
    "            return None\n",
    "        \n",
    "        for dest in dest_iter:\n",
    "            features = get_info_from_html(dest)\n",
    "            \n",
    "            if features != None:\n",
    "                page_index, page_label = features\n",
    "                # print page_label + \" \" + page_index\n",
    "                data = { 'page_id':page_index, 'label':page_label }\n",
    "                website_tree[page_index] = data\n",
    "            else: # some bullshit\n",
    "                if re.search('leftnav',dest) == None: \n",
    "                    print dest # see if labelRE is missing anything\n",
    "    \n",
    "    c = { 'pageID':page_id }\n",
    "    c['children_info'] = website_tree\n",
    "    route_list = [c['children_info'][route]['page_id'] for route in c['children_info']]\n",
    "    c['children'] = route_list\n",
    "\n",
    "    if page_id in c['children']:\n",
    "        return None\n",
    "    else:\n",
    "        return route_list"
   ]
  },
  {
   "cell_type": "code",
   "execution_count": 15,
   "metadata": {
    "collapsed": true
   },
   "outputs": [],
   "source": [
    "def get_info_box_html(mp_html):\n",
    "    from bs4 import BeautifulSoup\n",
    "    soup = BeautifulSoup(mp_html, 'html.parser')\n",
    "    page_table = soup.find_all('table')\n",
    "    for t in page_table:\n",
    "        if re.search(\"Submitted By:\",str(t)) != None:\n",
    "            return t"
   ]
  },
  {
   "cell_type": "code",
   "execution_count": null,
   "metadata": {
    "collapsed": true
   },
   "outputs": [],
   "source": [
    "def get_route_info(mp_html):\n",
    "    \n",
    "    route_info = {}\n",
    "    \n",
    "    info_box_html = get_info_box_html(mp_html)\n",
    "    \n",
    "    table_row = info_box_html.find_all('tr')\n",
    "    for r in table_row:\n",
    "        morsel = r.get_text()\n",
    "        morsel = morsel.replace('\\n','')\n",
    "        i = morsel.split(u':\\xa0')\n",
    "\n",
    "        if str(i[0]) != 'Consensus':\n",
    "            route_info[str(i[0])] = str(i[1])\n",
    "        else:\n",
    "            grade = r.get_text()[12:]\n",
    "            for g in grade.split(u' '):\n",
    "                h = g.split(u':\\xa0')\n",
    "                if len(h) > 1:\n",
    "                    route_info['Consensus-'+str(h[0])] = str(h[1])\n",
    "\n",
    "    return route_info"
   ]
  },
  {
   "cell_type": "code",
   "execution_count": null,
   "metadata": {
    "collapsed": false
   },
   "outputs": [
    {
     "name": "stdout",
     "output_type": "stream",
     "text": [
      "Above Tower of Babel 105861997\n",
      "Across From Cenotaph 105862845\n",
      "Across From Mind Shaft Cliff Crag 105861965\n",
      "Across from The Bihedral aka Cascade Crag 105746307\n",
      "Ament's Rock 105746686\n",
      "Angel of Death (formerly known as The Beer Can), The 105746077\n",
      "Animal World 105744917\n",
      "Arena (aka Contender Wall), The 105745747\n",
      "Armin's Crag 106056543\n",
      "Avalon 105745528\n",
      "Bell Buttress Massif 105864848\n",
      "Between Crackland and Wizard Rock 106909001\n",
      "BH Block 106597307\n",
      "Bihedral Area, The 105859534\n",
      "Bitty Buttress 105744605\n",
      "Black Widow Slab 105746409\n",
      "Blob Rock Area 105810491\n",
      "Boulder Canyon Boulder 105746474\n",
      "Boulder Falls East 105959633\n",
      "Boulder Slips 105860783\n",
      "Boulderado, The 105744641\n",
      "Bowling Alley, The 105863546\n",
      "Brick Wall, The 105744587\n",
      "Broken Rock 105746331\n",
      "Bummers Rock 105744576\n",
      "Canyon Block 106014126\n",
      "Castle Rock 105744656\n",
      "Catacombs, The 109142199\n",
      "Cenotaph Crag 105745813\n",
      "Cenotaph Spire 106830585\n",
      "Cob Rock 105744567\n",
      "Coney Island 105744894\n",
      "Cornerstone, The 105744776\n",
      "Couch Fire Crag 105832576\n",
      "Dome, The 105744581\n",
      "Eagle Rock 105744900\n",
      "East Of Eden 106189795\n",
      "Easter Rock 105745978\n",
      "Electra Glide 105744635\n",
      "Elephant Buttresses 105744584\n",
      "Fin Land 108416804\n",
      "Frisky Cliff 105746495\n",
      "Frogman Pinnacle 105809402\n",
      "Garden Party Wall 105746007\n",
      "Goofy Spire 108294091\n",
      "Happy Hour Crag 105744626\n",
      "Hideout, The 105863420\n",
      "High Energy Crag 105746063\n",
      "Higher Energy Crag 105809835\n",
      "Hillbilly Rocks 105810536\n",
      "Interloper Wall 107143309\n",
      "Island Rock 105746859\n",
      "Law of Physics Crag 106484844\n",
      "Lion's Den 105746275\n",
      "Little Crag 105744773\n",
      "Loft, The 107593735\n",
      "Long Walk Rock 106281411\n",
      "Lookout, The 105863556\n",
      "Lost Flatiron 105744593\n",
      "Lost Rock 105832169\n",
      "Lower Boulder Falls 105810530\n",
      "Lower Dream Canyon 105810533\n",
      "Mental Rock 105746841\n",
      "Mind Shaft Cliff 107104128\n",
      "Mindless Cliff 105746328\n",
      "Mine Hole Crag 105745103\n",
      "Mountain Rose 105746325\n",
      "Myth Rock 105746862\n",
      "Nip and Tuck 105744647\n",
      "Nursing Home 105792930\n",
      "One Shoe Makes It Murder 105746355\n",
      "Overlook, The 105746880\n",
      "Poison Ivy Dome 111179997\n",
      "Pop Rock 106479035\n",
      "Practice Rock 105744629\n",
      "Red Lyin' Slab 106159474\n",
      "Retirement Rock 105790190\n",
      "Road Rock 105825337\n",
      "Rock Island I 105862431\n",
      "Rock Island II 105744778\n",
      "Security Risk Massif 105810539\n",
      "Sentinel Slab 109520996\n",
      "Sherwood Forest 105744573\n",
      "Short Cliff w/ Three Cracks 105744611\n",
      "Sleeping Beauty 105746415\n",
      "Solar Dome (aka Lighthouse), The 105744903\n",
      "Solaris 105746462\n",
      "Spasmodic  Rock 105848070\n",
      "Sport Park, The 105744761\n",
      "Stepping Stones 105744650\n",
      "Stoner Slab 110037011\n",
      "Sugar Crack Buttress 106159464\n",
      "Sugarloaf Block 106511755\n",
      "Superdeath 110957454\n",
      "Teflon Wall, The 105746527\n",
      "Three Buffoons 105746823\n",
      "Tonnere Tower 105746916\n",
      "Tortoise Boulder 106610756\n",
      "Tower of Babel 105746427\n",
      "Trespass Rock 106149810\n",
      "Trout Rock 105746850\n",
      "Truth or Consequences Crag aka Inca Stone 105745325\n",
      "Tungsten Mine Shaft 105863507\n",
      "Unknown Crag (across from Lost Rock) 106085643\n",
      "Vampire Rock 105744644\n",
      "Wall of Voodoo, The 105746019\n",
      "Watermark, The 105745109\n",
      "Witches' Tower 105746650\n",
      "Wizard Rock 105746456\n",
      "Zoo, The 105744920\n",
      "\n",
      "\n",
      "Brenda from Kansas 107206087\n",
      "Denver Nugget 105826374\n",
      "Golden Child 105826364\n",
      "Greenfield 105764901\n",
      "Jersey Devil 105764892\n",
      "Lobo 105764898\n",
      "Louisville Slugger 105816585\n",
      "Minnesota Fats 105764895\n",
      "Obscurity Risk 106803069\n",
      "Philadelphia Flyer 105764889\n",
      "Probe, The 105842048\n",
      "Straight Out of Compton 105764910\n",
      "Transylvania 105827022\n",
      "Yosemite Sam 108316632\n",
      "Brenda from Kansas 107206087\n",
      "Denver Nugget 105826374\n",
      "Golden Child 105826364\n",
      "Greenfield 105764901\n",
      "Jersey Devil 105764892\n",
      "Lobo 105764898\n",
      "Louisville Slugger 105816585\n",
      "Minnesota Fats 105764895\n",
      "Obscurity Risk 106803069\n",
      "Philadelphia Flyer 105764889\n",
      "Probe, The 105842048\n",
      "Straight Out of Compton 105764910\n",
      "Transylvania 105827022\n",
      "Yosemite Sam 108316632\n",
      "Brenda from Kansas 107206087"
     ]
    }
   ],
   "source": [
    "def traverse(page_id):\n",
    "    children = get_children(page_id)\n",
    "    for child in children:\n",
    "        if get_children(child) != None:\n",
    "            traverse(child) # RECURSION!!!\n",
    "        else:\n",
    "            #tree = tree.append(get_route_info(page_id))\n",
    "            return child\n",
    "\n",
    "tree = traverse(105744222)"
   ]
  },
  {
   "cell_type": "code",
   "execution_count": 12,
   "metadata": {
    "collapsed": false
   },
   "outputs": [
    {
     "name": "stdout",
     "output_type": "stream",
     "text": [
      "105746527\n"
     ]
    }
   ],
   "source": [
    "print tree"
   ]
  },
  {
   "cell_type": "code",
   "execution_count": 311,
   "metadata": {
    "collapsed": false
   },
   "outputs": [
    {
     "name": "stdout",
     "output_type": "stream",
     "text": [
      "('107149327', 'American Flesh Dance (Combination of The Flesh plus American Ghost Dance)')\n",
      "('107455347', 'Ancient Futures')\n",
      "('105957640', 'Cutting Edge')\n",
      "('105732275', 'Dream of Wild Turkeys')\n",
      "('105732422', 'Epinephrine')\n",
      "('105732248', 'Fiddler on the Roof')\n",
      "('105732347', 'Gobbler, The')\n",
      "('107959290', \"I'm Not Worthy\")\n",
      "('105732806', 'Johnny Come Lately')\n",
      "('105732662', 'Lone Star')\n",
      "('107443433', 'My Little Pony')\n",
      "('105732587', 'Overhanging Hangover')\n",
      "('105732458', 'Prince of Darkness')\n",
      "('105732389', 'Refried Brains')\n",
      "('105883684', 'Rock Warrior')\n",
      "('108382264', 'Sandstone Samurai')\n",
      "('110029974', 'Shuffle, The')\n",
      "('108672691', 'Smooth as Silk')\n",
      "('105732407', 'Sour Mash')\n",
      "('106145798', 'Spark Plug')\n",
      "('108501405', 'Steel Monkey')\n",
      "('107149299', 'Texanephrine')\n",
      "('106153152', \"Texas Hold 'Em\")\n",
      "('106296797', 'Texas Tower Direct')\n",
      "('105937326', 'Velveeta')\n",
      "('106714924', 'Velvet Tongue, The')\n",
      "('105732716', 'Yellow Brick Road')\n"
     ]
    }
   ],
   "source": [
    "import urllib2\n",
    "import re\n",
    "\n",
    "page_id = '105732422'\n",
    "url = 'http://www.mountainproject.com/v/' + page_id\n",
    "mp_page = urllib2.urlopen(url)\n",
    "mp_html = mp_page.read()\n",
    "\n",
    "soup = BeautifulSoup(mp_html, 'html.parser')\n",
    "\n",
    "if re.search(\"leftNavRoutes\", mp_html):\n",
    "    t = str(soup.find(id=\"leftNavRoutes\"))\n",
    "    dest_iter = t.split(\"</td><td>\")\n",
    "\n",
    "    for dest in dest_iter:\n",
    "        features = get_info_from_html(dest)\n",
    "        if features != None:\n",
    "            print features\n"
   ]
  },
  {
   "cell_type": "code",
   "execution_count": 283,
   "metadata": {
    "collapsed": false
   },
   "outputs": [
    {
     "name": "stdout",
     "output_type": "stream",
     "text": [
      "<table cellpadding=\"0\" cellspacing=\"0\">\n",
      "<tr>\n",
      "<td>Type: </td>\n",
      "<td>Boulder</td>\n",
      "</tr>\n",
      "<tr><td>Consensus: </td><td><span class=\"rateHueco\"> <a class=\"small normal\" href=\"#\" onclick=\"showModalDlgAjax('/scripts/XmlHttpRequest.php?action=ratingOptions', 360, 'Rating Options');return false;\">Hueco:</a> V5</span> <span class=\"rateFont\"> <a class=\"small normal\" href=\"#\" onclick=\"showModalDlgAjax('/scripts/XmlHttpRequest.php?action=ratingOptions', 360, 'Rating Options');return false;\">Font:</a> 6C</span> <a class=\"small\" href=\"/scripts/ShowObjectStats.php?id=107752157\">[details]</a></td></tr>\n",
      "<tr><td valign=\"top\">FA: </td><td><!--MPTEXT--><!--MPTEXTEND--></td></tr>\n",
      "<tr><td>Page Views: </td><td>511</td></tr>\n",
      "<tr><td nowrap=\"nowrap\">Submitted By: </td><td><a href=\"/u/morgan-run-guide//107737661\">Morgan Run Guide</a> on Aug 16, 2012</td></tr>\n",
      "</table>\n"
     ]
    }
   ],
   "source": [
    "def get_info_box_html(mp_html):\n",
    "    from bs4 import BeautifulSoup\n",
    "    soup = BeautifulSoup(mp_html, 'html.parser')\n",
    "    page_table = soup.find_all('table')\n",
    "    for t in page_table:\n",
    "        if re.search(\"Submitted By:\",str(t)) != None:\n",
    "            return t\n",
    "\n",
    "info_box_html = get_info_box(mp_html)\n",
    "print info_box_html"
   ]
  },
  {
   "cell_type": "code",
   "execution_count": 288,
   "metadata": {
    "collapsed": false
   },
   "outputs": [
    {
     "data": {
      "text/plain": [
       "{'Consensus-Font': '6C',\n",
       " 'Consensus-Hueco': 'V5',\n",
       " 'FA': '',\n",
       " 'Page Views': '511',\n",
       " 'Submitted By': 'Morgan Run Guide on Aug 16, 2012',\n",
       " 'Type': 'Boulder'}"
      ]
     },
     "execution_count": 288,
     "metadata": {},
     "output_type": "execute_result"
    }
   ],
   "source": [
    "def get_route_info(mp_html):\n",
    "    \n",
    "    route_info = {}\n",
    "    \n",
    "    info_box_html = get_info_box_html(mp_html)\n",
    "    \n",
    "    table_row = info_box_html.find_all('tr')\n",
    "    for r in table_row:\n",
    "        morsel = r.get_text()\n",
    "        morsel = morsel.replace('\\n','')\n",
    "        i = morsel.split(u':\\xa0')\n",
    "\n",
    "        if str(i[0]) != 'Consensus':\n",
    "            route_info[str(i[0])] = str(i[1])\n",
    "        else:\n",
    "            grade = r.get_text()[12:]\n",
    "            for g in grade.split(u' '):\n",
    "                h = g.split(u':\\xa0')\n",
    "                if len(h) > 1:\n",
    "                    route_info['Consensus-'+str(h[0])] = str(h[1])\n",
    "\n",
    "    return route_info\n",
    "\n",
    "get_route_info(mp_html)"
   ]
  },
  {
   "cell_type": "code",
   "execution_count": 331,
   "metadata": {
    "collapsed": false
   },
   "outputs": [
    {
     "data": {
      "text/plain": [
       "[<meta content=\"3.1\" itemprop=\"average\"/>,\n",
       " <meta content=\"4\" itemprop=\"best\"/>,\n",
       " <meta content=\"14\" itemprop=\"votes\"/>]"
      ]
     },
     "execution_count": 331,
     "metadata": {},
     "output_type": "execute_result"
    }
   ],
   "source": [
    "url = 'https://www.mountainproject.com/v/lone-star/105732662'\n",
    "mp_page = urllib2.urlopen(url)\n",
    "mp_html = mp_page.read()\n",
    "\n",
    "soup = BeautifulSoup(mp_html, 'html.parser')\n",
    "\n",
    "soup.find(itemprop=\"itemreviewed\")\n",
    "a = soup.find(id=\"starSummaryText\").find_all('meta')\n",
    "a"
   ]
  },
  {
   "cell_type": "code",
   "execution_count": null,
   "metadata": {
    "collapsed": true
   },
   "outputs": [],
   "source": [
    "len(tree)"
   ]
  }
 ],
 "metadata": {
  "kernelspec": {
   "display_name": "Python 2",
   "language": "python",
   "name": "python2"
  },
  "language_info": {
   "codemirror_mode": {
    "name": "ipython",
    "version": 2
   },
   "file_extension": ".py",
   "mimetype": "text/x-python",
   "name": "python",
   "nbconvert_exporter": "python",
   "pygments_lexer": "ipython2",
   "version": "2.7.10"
  }
 },
 "nbformat": 4,
 "nbformat_minor": 0
}
