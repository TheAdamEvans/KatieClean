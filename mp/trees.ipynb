{
 "cells": [
  {
   "cell_type": "code",
   "execution_count": 3,
   "metadata": {
    "collapsed": true
   },
   "outputs": [],
   "source": [
    "import re\n",
    "import json\n",
    "import urllib2\n",
    "import sys"
   ]
  },
  {
   "cell_type": "code",
   "execution_count": 23,
   "metadata": {
    "collapsed": true
   },
   "outputs": [],
   "source": [
    "def get_info_from_html(html):\n",
    "\n",
    "    # finds a long digit\n",
    "    idRE = re.compile(r\"1(\\d)(\\d)(\\d)+\")\n",
    "    if idRE.search(html) != None:\n",
    "        page_index = idRE.search(html).group(0)\n",
    "\n",
    "    # finds something in between >  <\n",
    "    # BAD *$&@%$*&% will breka this\n",
    "    labelRE = re.compile(r\">[0-9A-z \\'()-/]+<\")\n",
    "    if labelRE.search(html) != None:\n",
    "        page_label = labelRE.search(html).group(0)\n",
    "        page_label = page_label[1:-1]\n",
    "    \n",
    "    if 'page_index' in locals() and 'page_label' in locals():\n",
    "        # url = 'http://www.mountainproject.com/v/' + page_index\n",
    "\n",
    "        # TODO package back should be JSON\n",
    "        return page_index, page_label #, url\n",
    "    else:\n",
    "        return None"
   ]
  },
  {
   "cell_type": "code",
   "execution_count": 33,
   "metadata": {
    "collapsed": true
   },
   "outputs": [],
   "source": [
    "def find_dest_iter(page_id, mp_html):\n",
    "    from bs4 import BeautifulSoup\n",
    "    soup = BeautifulSoup(mp_html, 'html.parser')\n",
    "    if page_id == '': # TODO move this to be the last case\n",
    "        dest_iter = [str(s) for s in soup.find_all('span') if re.search(\"destArea\",str(s)) != None]\n",
    "    elif re.search(\"leftNavRoutes\", mp_html) != None:\n",
    "        t = str(soup.find(id=\"leftNavRoutes\"))\n",
    "        dest_iter = t.split(\"</td><td>\")\n",
    "    elif re.search('leftnavfilternote(.*)',mp_html) != None: # TODO Use beautiful soup\n",
    "        nav_start = re.search('leftnavfilternote(.*)',mp_html).end()\n",
    "        nav_end = re.search('(.*)LeftNavDynamicContent',mp_html).start()\n",
    "        nav_html = mp_html[nav_start:nav_end]\n",
    "\n",
    "        # break out location rows\n",
    "        TRIM = 26\n",
    "        dest_iter = nav_html[TRIM:].split('<br/>')\n",
    "    else:\n",
    "        dest_iter = None\n",
    "    return dest_iter"
   ]
  },
  {
   "cell_type": "code",
   "execution_count": 24,
   "metadata": {
    "collapsed": false
   },
   "outputs": [],
   "source": [
    "def get_children(page_id):\n",
    "    \n",
    "    url = 'http://www.mountainproject.com/v/' + str(page_id)\n",
    "    \n",
    "    try:\n",
    "        mp_page = urllib2.urlopen(url)\n",
    "    except:\n",
    "        return None\n",
    "    else:\n",
    "        mp_html = mp_page.read()\n",
    "        \n",
    "        website_tree = {}\n",
    "        \n",
    "        dest_iter = find_dest_iter(page_id, mp_html)\n",
    "        \n",
    "        if dest_iter != None:\n",
    "            for dest in dest_iter:\n",
    "                features = get_info_from_html(dest)\n",
    "\n",
    "                if features != None:\n",
    "                    page_index, page_label = features\n",
    "                    # print page_label + \" \" + page_index\n",
    "                    data = { 'page_id':page_index, 'label':page_label }\n",
    "                    website_tree[page_index] = data\n",
    "                else: # some bullshit\n",
    "                    if re.search('leftnav',dest) == None: \n",
    "                        print dest # see if labelRE is missing anything\n",
    "    \n",
    "    c = { 'pageID':page_id }\n",
    "    c['children_info'] = website_tree\n",
    "    route_list = [c['children_info'][route]['page_id'] for route in c['children_info']]\n",
    "    c['children'] = route_list\n",
    "\n",
    "    if page_id in c['children']:\n",
    "        return None\n",
    "    else:\n",
    "        return route_list"
   ]
  },
  {
   "cell_type": "code",
   "execution_count": 25,
   "metadata": {
    "collapsed": true
   },
   "outputs": [],
   "source": [
    "def get_info_box_html(mp_html):\n",
    "    from bs4 import BeautifulSoup\n",
    "    soup = BeautifulSoup(mp_html, 'html.parser')\n",
    "    page_table = soup.find_all('table')\n",
    "    for t in page_table:\n",
    "        if re.search(\"Submitted By:\",str(t)) != None:\n",
    "            return t"
   ]
  },
  {
   "cell_type": "code",
   "execution_count": 32,
   "metadata": {
    "collapsed": false
   },
   "outputs": [
    {
     "ename": "TypeError",
     "evalue": "object of type 'int' has no len()",
     "output_type": "error",
     "traceback": [
      "\u001b[0;31m---------------------------------------------------------------------------\u001b[0m",
      "\u001b[0;31mTypeError\u001b[0m                                 Traceback (most recent call last)",
      "\u001b[0;32m<ipython-input-32-4bb0790a6d46>\u001b[0m in \u001b[0;36m<module>\u001b[0;34m()\u001b[0m\n\u001b[1;32m     25\u001b[0m         \u001b[0;32mreturn\u001b[0m \u001b[0mNone\u001b[0m\u001b[0;34m\u001b[0m\u001b[0m\n\u001b[1;32m     26\u001b[0m \u001b[0;34m\u001b[0m\u001b[0m\n\u001b[0;32m---> 27\u001b[0;31m \u001b[0mget_route_info\u001b[0m\u001b[0;34m(\u001b[0m\u001b[0;36m106861605\u001b[0m\u001b[0;34m)\u001b[0m\u001b[0;34m\u001b[0m\u001b[0m\n\u001b[0m",
      "\u001b[0;32m<ipython-input-32-4bb0790a6d46>\u001b[0m in \u001b[0;36mget_route_info\u001b[0;34m(mp_html)\u001b[0m\n\u001b[1;32m      3\u001b[0m     \u001b[0mroute_info\u001b[0m \u001b[0;34m=\u001b[0m \u001b[0;34m{\u001b[0m\u001b[0;34m}\u001b[0m\u001b[0;34m\u001b[0m\u001b[0m\n\u001b[1;32m      4\u001b[0m \u001b[0;34m\u001b[0m\u001b[0m\n\u001b[0;32m----> 5\u001b[0;31m     \u001b[0minfo_box_html\u001b[0m \u001b[0;34m=\u001b[0m \u001b[0mget_info_box_html\u001b[0m\u001b[0;34m(\u001b[0m\u001b[0mmp_html\u001b[0m\u001b[0;34m)\u001b[0m\u001b[0;34m\u001b[0m\u001b[0m\n\u001b[0m\u001b[1;32m      6\u001b[0m \u001b[0;34m\u001b[0m\u001b[0m\n\u001b[1;32m      7\u001b[0m     \u001b[0;32mif\u001b[0m \u001b[0minfo_box_html\u001b[0m \u001b[0;34m!=\u001b[0m \u001b[0mNone\u001b[0m\u001b[0;34m:\u001b[0m\u001b[0;34m\u001b[0m\u001b[0m\n",
      "\u001b[0;32m<ipython-input-25-e2e4fe17a34a>\u001b[0m in \u001b[0;36mget_info_box_html\u001b[0;34m(mp_html)\u001b[0m\n\u001b[1;32m      1\u001b[0m \u001b[0;32mdef\u001b[0m \u001b[0mget_info_box_html\u001b[0m\u001b[0;34m(\u001b[0m\u001b[0mmp_html\u001b[0m\u001b[0;34m)\u001b[0m\u001b[0;34m:\u001b[0m\u001b[0;34m\u001b[0m\u001b[0m\n\u001b[1;32m      2\u001b[0m     \u001b[0;32mfrom\u001b[0m \u001b[0mbs4\u001b[0m \u001b[0;32mimport\u001b[0m \u001b[0mBeautifulSoup\u001b[0m\u001b[0;34m\u001b[0m\u001b[0m\n\u001b[0;32m----> 3\u001b[0;31m     \u001b[0msoup\u001b[0m \u001b[0;34m=\u001b[0m \u001b[0mBeautifulSoup\u001b[0m\u001b[0;34m(\u001b[0m\u001b[0mmp_html\u001b[0m\u001b[0;34m,\u001b[0m \u001b[0;34m'html.parser'\u001b[0m\u001b[0;34m)\u001b[0m\u001b[0;34m\u001b[0m\u001b[0m\n\u001b[0m\u001b[1;32m      4\u001b[0m     \u001b[0mpage_table\u001b[0m \u001b[0;34m=\u001b[0m \u001b[0msoup\u001b[0m\u001b[0;34m.\u001b[0m\u001b[0mfind_all\u001b[0m\u001b[0;34m(\u001b[0m\u001b[0;34m'table'\u001b[0m\u001b[0;34m)\u001b[0m\u001b[0;34m\u001b[0m\u001b[0m\n\u001b[1;32m      5\u001b[0m     \u001b[0;32mfor\u001b[0m \u001b[0mt\u001b[0m \u001b[0;32min\u001b[0m \u001b[0mpage_table\u001b[0m\u001b[0;34m:\u001b[0m\u001b[0;34m\u001b[0m\u001b[0m\n",
      "\u001b[0;32m/Users/adam.evans/anaconda/lib/python2.7/site-packages/bs4/__init__.pyc\u001b[0m in \u001b[0;36m__init__\u001b[0;34m(self, markup, features, builder, parse_only, from_encoding, **kwargs)\u001b[0m\n\u001b[1;32m    160\u001b[0m         \u001b[0;32mif\u001b[0m \u001b[0mhasattr\u001b[0m\u001b[0;34m(\u001b[0m\u001b[0mmarkup\u001b[0m\u001b[0;34m,\u001b[0m \u001b[0;34m'read'\u001b[0m\u001b[0;34m)\u001b[0m\u001b[0;34m:\u001b[0m        \u001b[0;31m# It's a file-type object.\u001b[0m\u001b[0;34m\u001b[0m\u001b[0m\n\u001b[1;32m    161\u001b[0m             \u001b[0mmarkup\u001b[0m \u001b[0;34m=\u001b[0m \u001b[0mmarkup\u001b[0m\u001b[0;34m.\u001b[0m\u001b[0mread\u001b[0m\u001b[0;34m(\u001b[0m\u001b[0;34m)\u001b[0m\u001b[0;34m\u001b[0m\u001b[0m\n\u001b[0;32m--> 162\u001b[0;31m         \u001b[0;32melif\u001b[0m \u001b[0mlen\u001b[0m\u001b[0;34m(\u001b[0m\u001b[0mmarkup\u001b[0m\u001b[0;34m)\u001b[0m \u001b[0;34m<=\u001b[0m \u001b[0;36m256\u001b[0m\u001b[0;34m:\u001b[0m\u001b[0;34m\u001b[0m\u001b[0m\n\u001b[0m\u001b[1;32m    163\u001b[0m             \u001b[0;31m# Print out warnings for a couple beginner problems\u001b[0m\u001b[0;34m\u001b[0m\u001b[0;34m\u001b[0m\u001b[0m\n\u001b[1;32m    164\u001b[0m             \u001b[0;31m# involving passing non-markup to Beautiful Soup.\u001b[0m\u001b[0;34m\u001b[0m\u001b[0;34m\u001b[0m\u001b[0m\n",
      "\u001b[0;31mTypeError\u001b[0m: object of type 'int' has no len()"
     ]
    }
   ],
   "source": [
    "def get_route_info(mp_html):\n",
    "    \n",
    "    route_info = {}\n",
    "    \n",
    "    info_box_html = get_info_box_html(mp_html)\n",
    "    \n",
    "    if info_box_html != None:\n",
    "        table_row = info_box_html.find_all('tr')\n",
    "        for r in table_row:\n",
    "            morsel = r.get_text()\n",
    "            morsel = morsel.replace('\\n','')\n",
    "            i = morsel.split(u':\\xa0')\n",
    "\n",
    "            if str(i[0]) != 'Consensus':\n",
    "                route_info[str(i[0])] = str(i[1])\n",
    "            else:\n",
    "                grade = r.get_text()[12:]\n",
    "                for g in grade.split(u' '):\n",
    "                    h = g.split(u':\\xa0')\n",
    "                    if len(h) > 1:\n",
    "                        route_info['Consensus-'+str(h[0])] = str(h[1])\n",
    "\n",
    "        return route_info\n",
    "    else:\n",
    "        return None\n",
    "\n",
    "get_route_info()"
   ]
  },
  {
   "cell_type": "code",
   "execution_count": 31,
   "metadata": {
    "collapsed": false
   },
   "outputs": [
    {
     "name": "stdout",
     "output_type": "stream",
     "text": [
      "\n",
      "\n"
     ]
    },
    {
     "ename": "TypeError",
     "evalue": "'NoneType' object is not iterable",
     "output_type": "error",
     "traceback": [
      "\u001b[0;31m---------------------------------------------------------------------------\u001b[0m",
      "\u001b[0;31mTypeError\u001b[0m                                 Traceback (most recent call last)",
      "\u001b[0;32m<ipython-input-31-89121feed8e2>\u001b[0m in \u001b[0;36m<module>\u001b[0;34m()\u001b[0m\n\u001b[1;32m      8\u001b[0m             \u001b[0;32mreturn\u001b[0m \u001b[0mtree\u001b[0m\u001b[0;34m,\u001b[0m \u001b[0mchild\u001b[0m\u001b[0;34m\u001b[0m\u001b[0m\n\u001b[1;32m      9\u001b[0m \u001b[0;34m\u001b[0m\u001b[0m\n\u001b[0;32m---> 10\u001b[0;31m \u001b[0mtree\u001b[0m\u001b[0;34m,\u001b[0m \u001b[0mchild\u001b[0m \u001b[0;34m=\u001b[0m \u001b[0mtraverse\u001b[0m\u001b[0;34m(\u001b[0m\u001b[0;34m[\u001b[0m\u001b[0;34m]\u001b[0m\u001b[0;34m,\u001b[0m\u001b[0;34m'106861605'\u001b[0m\u001b[0;34m)\u001b[0m\u001b[0;34m\u001b[0m\u001b[0m\n\u001b[0m",
      "\u001b[0;31mTypeError\u001b[0m: 'NoneType' object is not iterable"
     ]
    }
   ],
   "source": [
    "def traverse(tree, page_id):\n",
    "    children = get_children(page_id)\n",
    "    for child in children:\n",
    "        if get_children(child) != None:\n",
    "            traverse(tree, child) # RECURSION!!!\n",
    "        else:\n",
    "            tree = tree.append(get_route_info(page_id))\n",
    "            return tree, child\n",
    "\n",
    "tree, child = traverse([],'106861605')"
   ]
  },
  {
   "cell_type": "code",
   "execution_count": 12,
   "metadata": {
    "collapsed": false
   },
   "outputs": [
    {
     "name": "stdout",
     "output_type": "stream",
     "text": [
      "105746527\n"
     ]
    }
   ],
   "source": [
    "print tree"
   ]
  },
  {
   "cell_type": "code",
   "execution_count": 283,
   "metadata": {
    "collapsed": false
   },
   "outputs": [
    {
     "name": "stdout",
     "output_type": "stream",
     "text": [
      "<table cellpadding=\"0\" cellspacing=\"0\">\n",
      "<tr>\n",
      "<td>Type: </td>\n",
      "<td>Boulder</td>\n",
      "</tr>\n",
      "<tr><td>Consensus: </td><td><span class=\"rateHueco\"> <a class=\"small normal\" href=\"#\" onclick=\"showModalDlgAjax('/scripts/XmlHttpRequest.php?action=ratingOptions', 360, 'Rating Options');return false;\">Hueco:</a> V5</span> <span class=\"rateFont\"> <a class=\"small normal\" href=\"#\" onclick=\"showModalDlgAjax('/scripts/XmlHttpRequest.php?action=ratingOptions', 360, 'Rating Options');return false;\">Font:</a> 6C</span> <a class=\"small\" href=\"/scripts/ShowObjectStats.php?id=107752157\">[details]</a></td></tr>\n",
      "<tr><td valign=\"top\">FA: </td><td><!--MPTEXT--><!--MPTEXTEND--></td></tr>\n",
      "<tr><td>Page Views: </td><td>511</td></tr>\n",
      "<tr><td nowrap=\"nowrap\">Submitted By: </td><td><a href=\"/u/morgan-run-guide//107737661\">Morgan Run Guide</a> on Aug 16, 2012</td></tr>\n",
      "</table>\n"
     ]
    }
   ],
   "source": [
    "def get_info_box_html(mp_html):\n",
    "    from bs4 import BeautifulSoup\n",
    "    soup = BeautifulSoup(mp_html, 'html.parser')\n",
    "    page_table = soup.find_all('table')\n",
    "    for t in page_table:\n",
    "        if re.search(\"Submitted By:\",str(t)) != None:\n",
    "            return t\n",
    "\n",
    "info_box_html = get_info_box(mp_html)\n",
    "print info_box_html"
   ]
  },
  {
   "cell_type": "code",
   "execution_count": 288,
   "metadata": {
    "collapsed": false
   },
   "outputs": [
    {
     "data": {
      "text/plain": [
       "{'Consensus-Font': '6C',\n",
       " 'Consensus-Hueco': 'V5',\n",
       " 'FA': '',\n",
       " 'Page Views': '511',\n",
       " 'Submitted By': 'Morgan Run Guide on Aug 16, 2012',\n",
       " 'Type': 'Boulder'}"
      ]
     },
     "execution_count": 288,
     "metadata": {},
     "output_type": "execute_result"
    }
   ],
   "source": [
    "def get_route_info(mp_html):\n",
    "    \n",
    "    route_info = {}\n",
    "    \n",
    "    info_box_html = get_info_box_html(mp_html)\n",
    "    \n",
    "    table_row = info_box_html.find_all('tr')\n",
    "    for r in table_row:\n",
    "        morsel = r.get_text()\n",
    "        morsel = morsel.replace('\\n','')\n",
    "        i = morsel.split(u':\\xa0')\n",
    "\n",
    "        if str(i[0]) != 'Consensus':\n",
    "            route_info[str(i[0])] = str(i[1])\n",
    "        else:\n",
    "            grade = r.get_text()[12:]\n",
    "            for g in grade.split(u' '):\n",
    "                h = g.split(u':\\xa0')\n",
    "                if len(h) > 1:\n",
    "                    route_info['Consensus-'+str(h[0])] = str(h[1])\n",
    "\n",
    "    return route_info\n",
    "\n",
    "get_route_info(mp_html)"
   ]
  },
  {
   "cell_type": "code",
   "execution_count": 331,
   "metadata": {
    "collapsed": false
   },
   "outputs": [
    {
     "data": {
      "text/plain": [
       "[<meta content=\"3.1\" itemprop=\"average\"/>,\n",
       " <meta content=\"4\" itemprop=\"best\"/>,\n",
       " <meta content=\"14\" itemprop=\"votes\"/>]"
      ]
     },
     "execution_count": 331,
     "metadata": {},
     "output_type": "execute_result"
    }
   ],
   "source": [
    "url = 'https://www.mountainproject.com/v/lone-star/105732662'\n",
    "mp_page = urllib2.urlopen(url)\n",
    "mp_html = mp_page.read()\n",
    "\n",
    "soup = BeautifulSoup(mp_html, 'html.parser')\n",
    "\n",
    "soup.find(itemprop=\"itemreviewed\")\n",
    "a = soup.find(id=\"starSummaryText\").find_all('meta')\n",
    "a"
   ]
  },
  {
   "cell_type": "code",
   "execution_count": null,
   "metadata": {
    "collapsed": true
   },
   "outputs": [],
   "source": [
    "len(tree)"
   ]
  },
  {
   "cell_type": "code",
   "execution_count": null,
   "metadata": {
    "collapsed": true
   },
   "outputs": [],
   "source": []
  },
  {
   "cell_type": "code",
   "execution_count": 57,
   "metadata": {
    "collapsed": false
   },
   "outputs": [
    {
     "name": "stdout",
     "output_type": "stream",
     "text": [
      "Hungry for Me\n"
     ]
    }
   ],
   "source": [
    "url = 'https://www.mountainproject.com/v/' + str(107431192)\n",
    "mp_page = urllib2.urlopen(url)\n",
    "mp_html = mp_page.read()\n",
    "from bs4 import BeautifulSoup\n",
    "soup = BeautifulSoup(mp_html, 'html.parser')\n",
    "\n",
    "#soup.find(id=\"routeSortLabel\") != None\n",
    "\n",
    "# def has_class_but_no_id(tag):\n",
    "#     if tag.div and tag.has_attr('class'):\n",
    "#         if u'medium' in tag['class']:\n",
    "#             print tag\n",
    "\n",
    "# soup.find_all(has_class_but_no_id)\n",
    "\n",
    "\n",
    "route_name = soup.h1.get_text().replace(u'\\xa0', '')\n",
    "# class=\"dkorange\"\n",
    "print route_name"
   ]
  },
  {
   "cell_type": "code",
   "execution_count": 59,
   "metadata": {
    "collapsed": true
   },
   "outputs": [],
   "source": [
    "x = {'a': 1, 'b': 2}\n",
    "y = {'b': 3, 'c': 4}"
   ]
  },
  {
   "cell_type": "code",
   "execution_count": 60,
   "metadata": {
    "collapsed": false
   },
   "outputs": [],
   "source": [
    "z = x.copy()\n",
    "z.update(y)"
   ]
  },
  {
   "cell_type": "code",
   "execution_count": 61,
   "metadata": {
    "collapsed": false
   },
   "outputs": [
    {
     "data": {
      "text/plain": [
       "{'a': 1, 'b': 3, 'c': 4}"
      ]
     },
     "execution_count": 61,
     "metadata": {},
     "output_type": "execute_result"
    }
   ],
   "source": [
    "z"
   ]
  },
  {
   "cell_type": "code",
   "execution_count": 68,
   "metadata": {
    "collapsed": false
   },
   "outputs": [],
   "source": [
    "x = {'Consensus-Ewbanks': '24', 'Consensus-British': 'E4', 'Consensus-French': '7a', 'FA': 'Charles Cole, John Middendorf, and Rusty Reno, 1985', 'Submitted By': 'Rusty Reno on Mar 31, 2007', 'Consensus-UIAA': 'VIII', 'Consensus-YDS': '5.11+', 'Consensus-ZA': '24', 'Type': \"Trad, 12 pitches, 1400',  Grade III\", 'Page Views': '14,828'}"
   ]
  },
  {
   "cell_type": "code",
   "execution_count": 69,
   "metadata": {
    "collapsed": true
   },
   "outputs": [],
   "source": [
    "y = { 'name': 'Stake 9' }"
   ]
  },
  {
   "cell_type": "code",
   "execution_count": 74,
   "metadata": {
    "collapsed": false
   },
   "outputs": [
    {
     "name": "stdout",
     "output_type": "stream",
     "text": [
      "{'Consensus-Ewbanks': '24', 'Consensus-British': 'E4', 'Consensus-French': '7a', 'Consensus-YDS': '5.11+', 'Submitted By': 'Rusty Reno on Mar 31, 2007', 'name': 'Stake 9', 'Consensus-UIAA': 'VIII', 'FA': 'Charles Cole, John Middendorf, and Rusty Reno, 1985', 'Consensus-ZA': '24', 'Type': \"Trad, 12 pitches, 1400',  Grade III\", 'Page Views': '14,828'}\n"
     ]
    }
   ],
   "source": [
    "z = x.copy()\n",
    "z.update(y)\n",
    "print z\n"
   ]
  },
  {
   "cell_type": "code",
   "execution_count": null,
   "metadata": {
    "collapsed": true
   },
   "outputs": [],
   "source": []
  }
 ],
 "metadata": {
  "kernelspec": {
   "display_name": "Python 2",
   "language": "python",
   "name": "python2"
  },
  "language_info": {
   "codemirror_mode": {
    "name": "ipython",
    "version": 2
   },
   "file_extension": ".py",
   "mimetype": "text/x-python",
   "name": "python",
   "nbconvert_exporter": "python",
   "pygments_lexer": "ipython2",
   "version": "2.7.10"
  }
 },
 "nbformat": 4,
 "nbformat_minor": 0
}
